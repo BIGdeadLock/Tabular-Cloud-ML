{
 "cells": [
  {
   "cell_type": "code",
   "id": "initial_id",
   "metadata": {
    "collapsed": true,
    "ExecuteTime": {
     "end_time": "2024-09-22T18:13:03.218091Z",
     "start_time": "2024-09-22T18:13:03.214775Z"
    }
   },
   "source": [
    "from sklearn.metrics import accuracy_score, f1_score\n",
    "import pandas as pd\n",
    "from sklearn.model_selection import train_test_split\n",
    "import pathlib\n",
    "import os\n",
    "from xgboost import XGBClassifier\n",
    "import numpy as np\n",
    "from sklearn.preprocessing import StandardScaler, OneHotEncoder\n"
   ],
   "outputs": [],
   "execution_count": 5
  },
  {
   "metadata": {
    "ExecuteTime": {
     "end_time": "2024-09-22T18:08:32.751983Z",
     "start_time": "2024-09-22T18:08:32.748405Z"
    }
   },
   "cell_type": "code",
   "source": [
    "SAMPLE_SIZE = 0.2\n",
    "\n",
    "\n",
    "def preprocess(X: pd.DataFrame, y: pd.Series, sample_size: float = SAMPLE_SIZE):\n",
    "    # Identify categorical and numeric columns\n",
    "    categorical_cols = X.select_dtypes(include=['object', 'category']).columns.tolist()\n",
    "    numeric_cols = X.select_dtypes(include=['number']).columns.tolist()\n",
    "    \n",
    "    # Initialize lists to store processed columns\n",
    "    processed_columns = []\n",
    "\n",
    "    # If there are categorical columns, apply one-hot encoding\n",
    "    if categorical_cols:\n",
    "        print(\"Encoding categorical columns...\")\n",
    "        onehot_encoder = OneHotEncoder(categories='auto')\n",
    "        X_categorical = pd.DataFrame(onehot_encoder.fit_transform(X[categorical_cols]),\n",
    "                                     columns=onehot_encoder.get_feature_names_out(categorical_cols))\n",
    "        processed_columns.append(X_categorical)\n",
    "    \n",
    "    # Apply standard scaling to the numeric columns\n",
    "    if numeric_cols:\n",
    "        print(\"Scaling numerical columns...\")\n",
    "        scaler = StandardScaler()\n",
    "        X_numeric = X[numeric_cols] # pd.DataFrame(scaler.fit_transform(X[numeric_cols]), columns=numeric_cols)\n",
    "        processed_columns.append(X_numeric)\n",
    "\n",
    "    # Combine the processed columns\n",
    "    if processed_columns:\n",
    "        X_processed = pd.concat(processed_columns, axis=1)\n",
    "    else:\n",
    "        X_processed = X.copy()  # If there are no categorical or numeric columns, keep the original dataframe\n",
    "    \n",
    "    # Split the data into training and test sets\n",
    "    X_train, X_test, y_train, y_test = train_test_split(X_processed, y, test_size=0.1,stratify=y, random_state=42)   \n",
    "    \n",
    "    # # Scale the training and test sets\n",
    "    # scaler = StandardScaler()\n",
    "    # X_train = scaler.fit_transform(X_train)\n",
    "    # X_test = scaler.transform(X_test)\n",
    "    \n",
    "    # Sample a subset of the training data\n",
    "    _, X_sample, _, y_sample = train_test_split(X_train, y_train, test_size=sample_size,stratify=y_train, random_state=42)\n",
    "    \n",
    "    # Print the shapes of the datasets\n",
    "    print(\"X_train shape:\", X_train.shape)\n",
    "    print(\"X_test shape:\", X_test.shape)\n",
    "    print(\"y_train shape:\", y_train.shape)\n",
    "    print(\"y_test shape:\", y_test.shape)\n",
    "    print(\"X_sample shape:\", X_sample.shape)\n",
    "    print(\"y_sample shape:\", y_sample.shape)\n",
    "    \n",
    "\n",
    "        \n",
    "    return X_train, y_train,X_sample, y_sample, X_test, y_test"
   ],
   "id": "97e42f1a33f8b23b",
   "outputs": [],
   "execution_count": 2
  },
  {
   "metadata": {
    "ExecuteTime": {
     "end_time": "2024-09-22T18:08:39.799999Z",
     "start_time": "2024-09-22T18:08:36.311835Z"
    }
   },
   "cell_type": "code",
   "source": [
    "from ucimlrepo import fetch_ucirepo \n",
    "  \n",
    "# fetch dataset \n",
    "predict_students_dropout_and_academic_success = fetch_ucirepo(id=697) \n",
    "  \n",
    "# data (as pandas dataframes) \n",
    "X = predict_students_dropout_and_academic_success.data.features \n",
    "y = predict_students_dropout_and_academic_success.data.targets \n",
    "  \n",
    "# metadata \n",
    "print(predict_students_dropout_and_academic_success.metadata) \n",
    "  \n",
    "# variable information \n",
    "print(predict_students_dropout_and_academic_success.variables) \n"
   ],
   "id": "a2214939fcb61e22",
   "outputs": [
    {
     "name": "stdout",
     "output_type": "stream",
     "text": [
      "{'uci_id': 697, 'name': \"Predict Students' Dropout and Academic Success\", 'repository_url': 'https://archive.ics.uci.edu/dataset/697/predict+students+dropout+and+academic+success', 'data_url': 'https://archive.ics.uci.edu/static/public/697/data.csv', 'abstract': \"A dataset created from a higher education institution (acquired from several disjoint databases) related to students enrolled in different undergraduate degrees, such as agronomy, design, education, nursing, journalism, management, social service, and technologies.\\nThe dataset includes information known at the time of student enrollment (academic path, demographics, and social-economic factors) and the students' academic performance at the end of the first and second semesters. \\nThe data is used to build classification models to predict students' dropout and academic sucess. The problem is formulated as a three category classification task, in which there is a strong imbalance towards one of the classes.\", 'area': 'Social Science', 'tasks': ['Classification'], 'characteristics': ['Tabular'], 'num_instances': 4424, 'num_features': 36, 'feature_types': ['Real', 'Categorical', 'Integer'], 'demographics': ['Marital Status', 'Education Level', 'Nationality', 'Occupation', 'Gender', 'Age'], 'target_col': ['Target'], 'index_col': None, 'has_missing_values': 'no', 'missing_values_symbol': None, 'year_of_dataset_creation': 2021, 'last_updated': 'Mon Feb 26 2024', 'dataset_doi': '10.24432/C5MC89', 'creators': ['Valentim Realinho', 'Mónica Vieira Martins', 'Jorge Machado', 'Luís Baptista'], 'intro_paper': {'title': \"Early prediction of student's performance in higher education: a case study\", 'authors': 'Mónica V. Martins, Daniel Tolledo, Jorge Machado, Luís M. T. Baptista, and Valentim Realinho', 'published_in': 'Trends and Applications in Information Systems and Technologies', 'year': 2021, 'url': 'http://www.worldcist.org/2021/', 'doi': 'http://www.doi.org/10.1007/978-3-030-72657-7_16'}, 'additional_info': {'summary': None, 'purpose': 'The dataset was created in a project that aims to contribute to the reduction of academic dropout and failure in higher education, by using machine learning techniques to identify students at risk at an early stage of their academic path, so that strategies to support them can be put into place. \\n\\nThe dataset includes information known at the time of student enrollment – academic path, demographics, and social-economic factors. \\n\\nThe problem is formulated as a three category classification task (dropout, enrolled, and graduate) at the end of the normal duration of the course. \\n', 'funded_by': 'This dataset is supported by program SATDAP - Capacitação da Administração Pública under grant POCI-05-5762-FSE-000191, Portugal.', 'instances_represent': 'Each instance is a student', 'recommended_data_splits': 'The dataset was used, in our project, with a data split of 80% for training and 20% for test.', 'sensitive_data': None, 'preprocessing_description': 'We performed a rigorous data preprocessing to handle data from anomalies, unexplainable outliers, and missing values.', 'variable_info': None, 'citation': 'If you use this dataset in experiments for a scientific publication, please kindly cite our paper: \\nM.V.Martins, D. Tolledo, J. Machado, L. M.T. Baptista, V.Realinho. (2021) \"Early prediction of student’s performance in higher education: a case study\" Trends and Applications in Information Systems and Technologies, vol.1, in Advances in Intelligent Systems and Computing series. Springer. DOI: 10.1007/978-3-030-72657-7_16'}}\n",
      "                                              name     role         type  \\\n",
      "0                                   Marital Status  Feature      Integer   \n",
      "1                                 Application mode  Feature      Integer   \n",
      "2                                Application order  Feature      Integer   \n",
      "3                                           Course  Feature      Integer   \n",
      "4                       Daytime/evening attendance  Feature      Integer   \n",
      "5                           Previous qualification  Feature      Integer   \n",
      "6                   Previous qualification (grade)  Feature   Continuous   \n",
      "7                                      Nacionality  Feature      Integer   \n",
      "8                           Mother's qualification  Feature      Integer   \n",
      "9                           Father's qualification  Feature      Integer   \n",
      "10                             Mother's occupation  Feature      Integer   \n",
      "11                             Father's occupation  Feature      Integer   \n",
      "12                                 Admission grade  Feature   Continuous   \n",
      "13                                       Displaced  Feature      Integer   \n",
      "14                       Educational special needs  Feature      Integer   \n",
      "15                                          Debtor  Feature      Integer   \n",
      "16                         Tuition fees up to date  Feature      Integer   \n",
      "17                                          Gender  Feature      Integer   \n",
      "18                              Scholarship holder  Feature      Integer   \n",
      "19                               Age at enrollment  Feature      Integer   \n",
      "20                                   International  Feature      Integer   \n",
      "21             Curricular units 1st sem (credited)  Feature      Integer   \n",
      "22             Curricular units 1st sem (enrolled)  Feature      Integer   \n",
      "23          Curricular units 1st sem (evaluations)  Feature      Integer   \n",
      "24             Curricular units 1st sem (approved)  Feature      Integer   \n",
      "25                Curricular units 1st sem (grade)  Feature      Integer   \n",
      "26  Curricular units 1st sem (without evaluations)  Feature      Integer   \n",
      "27             Curricular units 2nd sem (credited)  Feature      Integer   \n",
      "28             Curricular units 2nd sem (enrolled)  Feature      Integer   \n",
      "29          Curricular units 2nd sem (evaluations)  Feature      Integer   \n",
      "30             Curricular units 2nd sem (approved)  Feature      Integer   \n",
      "31                Curricular units 2nd sem (grade)  Feature      Integer   \n",
      "32  Curricular units 2nd sem (without evaluations)  Feature      Integer   \n",
      "33                               Unemployment rate  Feature   Continuous   \n",
      "34                                  Inflation rate  Feature   Continuous   \n",
      "35                                             GDP  Feature   Continuous   \n",
      "36                                          Target   Target  Categorical   \n",
      "\n",
      "        demographic                                        description units  \\\n",
      "0    Marital Status  1 – single 2 – married 3 – widower 4 – divorce...  None   \n",
      "1              None  1 - 1st phase - general contingent 2 - Ordinan...  None   \n",
      "2              None  Application order (between 0 - first choice; a...  None   \n",
      "3              None  33 - Biofuel Production Technologies 171 - Ani...  None   \n",
      "4              None                            1 – daytime 0 - evening  None   \n",
      "5   Education Level  1 - Secondary education 2 - Higher education -...  None   \n",
      "6              None  Grade of previous qualification (between 0 and...  None   \n",
      "7       Nationality  1 - Portuguese; 2 - German; 6 - Spanish; 11 - ...  None   \n",
      "8   Education Level  1 - Secondary Education - 12th Year of Schooli...  None   \n",
      "9   Education Level  1 - Secondary Education - 12th Year of Schooli...  None   \n",
      "10       Occupation  0 - Student 1 - Representatives of the Legisla...  None   \n",
      "11       Occupation  0 - Student 1 - Representatives of the Legisla...  None   \n",
      "12             None                Admission grade (between 0 and 200)  None   \n",
      "13             None                                     1 – yes 0 – no  None   \n",
      "14             None                                     1 – yes 0 – no  None   \n",
      "15             None                                     1 – yes 0 – no  None   \n",
      "16             None                                     1 – yes 0 – no  None   \n",
      "17           Gender                                1 – male 0 – female  None   \n",
      "18             None                                     1 – yes 0 – no  None   \n",
      "19              Age                       Age of studend at enrollment  None   \n",
      "20             None                                     1 – yes 0 – no  None   \n",
      "21             None  Number of curricular units credited in the 1st...  None   \n",
      "22             None  Number of curricular units enrolled in the 1st...  None   \n",
      "23             None  Number of evaluations to curricular units in t...  None   \n",
      "24             None  Number of curricular units approved in the 1st...  None   \n",
      "25             None  Grade average in the 1st semester (between 0 a...  None   \n",
      "26             None  Number of curricular units without evalutions ...  None   \n",
      "27             None  Number of curricular units credited in the 2nd...  None   \n",
      "28             None  Number of curricular units enrolled in the 2nd...  None   \n",
      "29             None  Number of evaluations to curricular units in t...  None   \n",
      "30             None  Number of curricular units approved in the 2nd...  None   \n",
      "31             None  Grade average in the 2nd semester (between 0 a...  None   \n",
      "32             None  Number of curricular units without evalutions ...  None   \n",
      "33             None                              Unemployment rate (%)  None   \n",
      "34             None                                 Inflation rate (%)  None   \n",
      "35             None                                                GDP  None   \n",
      "36             None  Target. The problem is formulated as a three c...  None   \n",
      "\n",
      "   missing_values  \n",
      "0              no  \n",
      "1              no  \n",
      "2              no  \n",
      "3              no  \n",
      "4              no  \n",
      "5              no  \n",
      "6              no  \n",
      "7              no  \n",
      "8              no  \n",
      "9              no  \n",
      "10             no  \n",
      "11             no  \n",
      "12             no  \n",
      "13             no  \n",
      "14             no  \n",
      "15             no  \n",
      "16             no  \n",
      "17             no  \n",
      "18             no  \n",
      "19             no  \n",
      "20             no  \n",
      "21             no  \n",
      "22             no  \n",
      "23             no  \n",
      "24             no  \n",
      "25             no  \n",
      "26             no  \n",
      "27             no  \n",
      "28             no  \n",
      "29             no  \n",
      "30             no  \n",
      "31             no  \n",
      "32             no  \n",
      "33             no  \n",
      "34             no  \n",
      "35             no  \n",
      "36             no  \n"
     ]
    }
   ],
   "execution_count": 3
  },
  {
   "metadata": {
    "ExecuteTime": {
     "end_time": "2024-09-22T18:08:39.816987Z",
     "start_time": "2024-09-22T18:08:39.803381Z"
    }
   },
   "cell_type": "code",
   "source": [
    "y = y.replace({\"Dropout\": 1, \"Graduate\": 0, \"Enrolled\": 2})\n",
    "y"
   ],
   "id": "8cf527eb91d86451",
   "outputs": [
    {
     "name": "stderr",
     "output_type": "stream",
     "text": [
      "/var/folders/r9/9n0wpy917zg1611cmsmqg0kr0000gn/T/ipykernel_59299/1230688407.py:1: FutureWarning: Downcasting behavior in `replace` is deprecated and will be removed in a future version. To retain the old behavior, explicitly call `result.infer_objects(copy=False)`. To opt-in to the future behavior, set `pd.set_option('future.no_silent_downcasting', True)`\n",
      "  y = y.replace({\"Dropout\": 1, \"Graduate\": 0, \"Enrolled\": 2})\n"
     ]
    },
    {
     "data": {
      "text/plain": [
       "      Target\n",
       "0          1\n",
       "1          0\n",
       "2          1\n",
       "3          0\n",
       "4          0\n",
       "...      ...\n",
       "4419       0\n",
       "4420       1\n",
       "4421       1\n",
       "4422       0\n",
       "4423       0\n",
       "\n",
       "[4424 rows x 1 columns]"
      ],
      "text/html": [
       "<div>\n",
       "<style scoped>\n",
       "    .dataframe tbody tr th:only-of-type {\n",
       "        vertical-align: middle;\n",
       "    }\n",
       "\n",
       "    .dataframe tbody tr th {\n",
       "        vertical-align: top;\n",
       "    }\n",
       "\n",
       "    .dataframe thead th {\n",
       "        text-align: right;\n",
       "    }\n",
       "</style>\n",
       "<table border=\"1\" class=\"dataframe\">\n",
       "  <thead>\n",
       "    <tr style=\"text-align: right;\">\n",
       "      <th></th>\n",
       "      <th>Target</th>\n",
       "    </tr>\n",
       "  </thead>\n",
       "  <tbody>\n",
       "    <tr>\n",
       "      <th>0</th>\n",
       "      <td>1</td>\n",
       "    </tr>\n",
       "    <tr>\n",
       "      <th>1</th>\n",
       "      <td>0</td>\n",
       "    </tr>\n",
       "    <tr>\n",
       "      <th>2</th>\n",
       "      <td>1</td>\n",
       "    </tr>\n",
       "    <tr>\n",
       "      <th>3</th>\n",
       "      <td>0</td>\n",
       "    </tr>\n",
       "    <tr>\n",
       "      <th>4</th>\n",
       "      <td>0</td>\n",
       "    </tr>\n",
       "    <tr>\n",
       "      <th>...</th>\n",
       "      <td>...</td>\n",
       "    </tr>\n",
       "    <tr>\n",
       "      <th>4419</th>\n",
       "      <td>0</td>\n",
       "    </tr>\n",
       "    <tr>\n",
       "      <th>4420</th>\n",
       "      <td>1</td>\n",
       "    </tr>\n",
       "    <tr>\n",
       "      <th>4421</th>\n",
       "      <td>1</td>\n",
       "    </tr>\n",
       "    <tr>\n",
       "      <th>4422</th>\n",
       "      <td>0</td>\n",
       "    </tr>\n",
       "    <tr>\n",
       "      <th>4423</th>\n",
       "      <td>0</td>\n",
       "    </tr>\n",
       "  </tbody>\n",
       "</table>\n",
       "<p>4424 rows × 1 columns</p>\n",
       "</div>"
      ]
     },
     "execution_count": 4,
     "metadata": {},
     "output_type": "execute_result"
    }
   ],
   "execution_count": 4
  },
  {
   "metadata": {
    "ExecuteTime": {
     "end_time": "2024-09-22T18:07:52.094273Z",
     "start_time": "2024-09-22T18:07:52.073897Z"
    }
   },
   "cell_type": "code",
   "source": [
    "X_train, y_train,X_sample, y_sample, X_test, y_test = preprocess(X, y, 0.1)\n",
    "print(X_train.shape, X_sample.shape, X_test.shape)"
   ],
   "id": "593611e7896ac5aa",
   "outputs": [
    {
     "name": "stdout",
     "output_type": "stream",
     "text": [
      "Scaling numerical columns...\n",
      "X_train shape: (3981, 36)\n",
      "X_test shape: (443, 36)\n",
      "y_train shape: (3981, 1)\n",
      "y_test shape: (443, 1)\n",
      "X_sample shape: (399, 36)\n",
      "y_sample shape: (399, 1)\n",
      "(3981, 36) (399, 36) (443, 36)\n"
     ]
    }
   ],
   "execution_count": 66
  },
  {
   "metadata": {
    "ExecuteTime": {
     "end_time": "2024-09-22T17:20:11.413972Z",
     "start_time": "2024-09-22T17:20:11.031684Z"
    }
   },
   "cell_type": "code",
   "source": [
    "model = XGBClassifier()\n",
    "model.fit(X_train, y_train)\n",
    "predictions = model.predict(X_test)\n",
    "\n",
    "print(\"Accuracy:\", accuracy_score(y_test, predictions))\n",
    "print(\"F1 Score:\", f1_score(y_test, predictions, average='macro'))"
   ],
   "id": "c8bfc3c82a426ce",
   "outputs": [
    {
     "name": "stdout",
     "output_type": "stream",
     "text": [
      "Accuracy: 0.7697516930022573\n",
      "F1 Score: 0.7027021417109006\n"
     ]
    }
   ],
   "execution_count": 34
  },
  {
   "metadata": {
    "ExecuteTime": {
     "end_time": "2024-09-22T17:20:27.773302Z",
     "start_time": "2024-09-22T17:20:27.478562Z"
    }
   },
   "cell_type": "code",
   "source": [
    "model = XGBClassifier()\n",
    "model.fit(X_sample, y_sample)\n",
    "predictions = model.predict(X_test)\n",
    "\n",
    "print(\"Accuracy:\", accuracy_score(y_test, predictions))\n",
    "print(\"F1 Score:\", f1_score(y_test, predictions, average='macro'))"
   ],
   "id": "5ddcb5bdb66b322",
   "outputs": [
    {
     "name": "stdout",
     "output_type": "stream",
     "text": [
      "Accuracy: 0.7200902934537246\n",
      "F1 Score: 0.6338423919805681\n"
     ]
    }
   ],
   "execution_count": 35
  },
  {
   "metadata": {
    "ExecuteTime": {
     "end_time": "2024-09-22T17:25:04.302386Z",
     "start_time": "2024-09-22T17:25:04.266052Z"
    }
   },
   "cell_type": "code",
   "source": [
    "dataset = pd.concat([X, y], axis=1)\n",
    "dataset.to_csv(\"../data/students_dropout.csv\")"
   ],
   "id": "ab4391a8697d11f7",
   "outputs": [],
   "execution_count": 46
  },
  {
   "metadata": {
    "ExecuteTime": {
     "end_time": "2024-09-22T17:29:55.971369Z",
     "start_time": "2024-09-22T17:29:40.125097Z"
    }
   },
   "cell_type": "code",
   "source": [
    "from ucimlrepo import fetch_ucirepo \n",
    "  \n",
    "# fetch dataset \n",
    "support2 = fetch_ucirepo(id=880) \n",
    "  \n",
    "# data (as pandas dataframes) \n",
    "X = support2.data.features \n",
    "y = support2.data.targets \n",
    "  \n",
    "# metadata \n",
    "print(support2.metadata) \n",
    "  \n",
    "# variable information \n",
    "print(support2.variables) \n",
    "  \n"
   ],
   "id": "96ee8dfa2e64ff93",
   "outputs": [
    {
     "name": "stdout",
     "output_type": "stream",
     "text": [
      "{'uci_id': 880, 'name': 'SUPPORT2', 'repository_url': 'https://archive.ics.uci.edu/dataset/880/support2', 'data_url': 'https://archive.ics.uci.edu/static/public/880/data.csv', 'abstract': \"This dataset comprises 9105 individual critically ill patients across 5 United States medical centers, accessioned throughout 1989-1991 and 1992-1994.\\nEach row concerns hospitalized patient records who met the inclusion and exclusion criteria for nine disease categories: acute respiratory failure, chronic obstructive pulmonary disease, congestive heart failure, liver disease, coma, colon cancer, lung cancer, multiple organ system failure with malignancy, and multiple organ system failure with sepsis. The goal is to determine these patients' 2- and 6-month survival rates based on several physiologic, demographics, and disease severity information. \\nIt is an important problem because it addresses the growing national concern over patients' loss of control near the end of life. It enables earlier decisions and planning to reduce the frequency of a mechanical, painful, and prolonged dying process.\", 'area': 'Health and Medicine', 'tasks': ['Classification', 'Regression', 'Other'], 'characteristics': ['Tabular', 'Multivariate'], 'num_instances': 9105, 'num_features': 42, 'feature_types': ['Real', 'Categorical', 'Integer'], 'demographics': ['Age', 'Sex', 'Education Level', 'Income', 'Race'], 'target_col': ['death', 'hospdead', 'sfdm2'], 'index_col': ['id'], 'has_missing_values': 'yes', 'missing_values_symbol': 'NaN', 'year_of_dataset_creation': 1995, 'last_updated': 'Mon Sep 09 2024', 'dataset_doi': '10.3886/ICPSR02957.v2', 'creators': ['Frank Harrel'], 'intro_paper': {'title': 'A controlled trial to improve care for seriously ill hospitalized patients. The study to understand prognoses and preferences for outcomes and risks of treatments (SUPPORT)', 'authors': 'The SUPPORT Principal Investigators', 'published_in': 'In the Journal of the American Medical Association, 274(20):1591–1598', 'year': 1995, 'url': 'https://pubmed.ncbi.nlm.nih.gov/7474243/', 'doi': None}, 'additional_info': {'summary': \"Data sources are medical records, personal interviews, and the National Death Index (NDI). For each patient administrative records data, clinical data and survey data were collected.\\nThe objective of the SUPPORT project was to improve decision-making in order to address the growing national concern over the loss of control that patients have near the end of life and to reduce the frequency of a mechanical, painful, and prolonged process of dying. SUPPORT comprised a two-year prospective observational study (Phase I) followed by a two-year controlled clinical trial (Phase II). Phase I of SUPPORT collected data from patients accessioned during 1989-1991 to characterize the care, treatment preferences, and patterns of decision-making among critically ill patients. It also served as a preliminary step for devising an intervention strategy for improving critically-ill patients' care and for the construction of statistical models for predicting patient prognosis and functional status. An intervention was implemented in Phase II of SUPPORT, which accessioned patients during 1992-1994. The Phase II intervention provided physicians with accurate predictive information on future functional ability, survival probability to six months, and patients' preferences for end-of-life care. Additionally, a skilled nurse was provided as part of the intervention to elicit patient preferences, provide prognoses, enhance understanding, enable palliative care, and facilitate advance planning. The intervention was expected to increase communication, resulting in earlier decisions to have orders against resuscitation, decrease time that patients spent in undesirable states (e.g., in the Intensive Care Unit, on a ventilator, and in a coma), increase physician understanding of patients' preferences for care, decrease patient pain, and decrease hospital resource use. Data collection in both phases of SUPPORT consisted of questionnaires administered to patients, their surrogates, and physicians, plus chart reviews for abstracting clinical, treatment, and decision information. Phase II also collected information regarding the implementation of the intervention, such as patient-specific logs maintained by nurses assigned to patients as part of the intervention. SUPPORT patients were followed for six months after inclusion in the study. Those who did not die within six months or were lost to follow-up were matched against the National Death Index to identify deaths through 1997. Patients who did not die within one year or were lost to follow-up were matched against the National Death Index to identify deaths through 1997.\\nAll patients in five United States medical centers who met inclusion and exclusion criteria for nine disease categories: acute respiratory failure, chronic obstructive pulmonary disease, congestive heart failure, liver disease, coma, colon cancer, lung cancer, multiple organ system failure with malignancy, and multiple organ system failure with sepsis. SUPPORT is a combination of patients from 2 studies, each of which lasted 2 years. The first phase concerns 4,301 patients, whereas the second phase concerns 4,804 patients. Time wise, these studies were accessioned in 1989 (June 12) through 1991 (June 11) for phase I and in 1992 (January 7) through 1994 (January 24).\", 'purpose': \"To develop and validate a prognostic model that estimates survival over a 180-day period for seriously ill hospitalized adults (phase I of SUPPORT) and to compare this model's predictions with those of an existing prognostic system and with physicians' independent estimates (SUPPORT phase II).\", 'funded_by': 'Funded by the Robert Wood Johnson Foundation\\n', 'instances_represent': 'The instances represent records of critically ill patients admitted to United States hospitals with advanced stages of serious illness.\\n', 'recommended_data_splits': 'No recommendation, standard train-test split could be used. Can use three-way holdout split (i.e., train-validation-test) when doing model selection.', 'sensitive_data': 'Yes. There is information about race, gender, income, and education level.', 'preprocessing_description': 'No.  Due to the high percentage of missing values, there are a couple of recommended imputation values:\\nAccording to the HBiostat Repository (https://hbiostat.org/data/repo/supportdesc, Professor Frank Harrell) the following default values have been found to be useful in imputing missing baseline physiologic data:\\nBaseline Variable\\tNormal Fill-in Value\\n- Serum albumin (alb)\\t3.5\\n- PaO2/FiO2 ratio (pafi) \\t333.3\\n- Bilirubin (bili)\\t1.01\\n- Creatinine (crea)\\t1.01\\n- bun\\t6.51\\n- White blood count (wblc)\\t9 (thousands)\\n- Urine output (urine)\\t2502\\nThere are 159 patients surviving 2 months for whom there were no patient or surrogate interviews. These patients have missing sfdm2.', 'variable_info': None, 'citation': 'Please acknowledge the source of this dataset as being from Vanderbilt University Department of Biostatistics, Professor Frank Harrell 2022, url: https://hbiostat.org/data/'}, 'external_url': 'https://hbiostat.org/data'}\n",
      "        name     role         type      demographic  \\\n",
      "0         id       ID      Integer             None   \n",
      "1        age  Feature   Continuous              Age   \n",
      "2      death   Target   Continuous             None   \n",
      "3        sex  Feature  Categorical              Sex   \n",
      "4   hospdead   Target       Binary             None   \n",
      "5       slos    Other   Continuous             None   \n",
      "6     d.time    Other   Continuous             None   \n",
      "7    dzgroup  Feature  Categorical             None   \n",
      "8    dzclass  Feature  Categorical             None   \n",
      "9     num.co  Feature   Continuous             None   \n",
      "10       edu  Feature  Categorical  Education Level   \n",
      "11    income  Feature  Categorical           Income   \n",
      "12     scoma  Feature   Continuous             None   \n",
      "13   charges  Feature   Continuous             None   \n",
      "14    totcst  Feature   Continuous             None   \n",
      "15   totmcst  Feature   Continuous             None   \n",
      "16   avtisst  Feature   Continuous             None   \n",
      "17      race  Feature  Categorical             Race   \n",
      "18       sps  Feature   Continuous             None   \n",
      "19       aps  Feature   Continuous             None   \n",
      "20    surv2m  Feature   Continuous             None   \n",
      "21    surv6m  Feature   Continuous             None   \n",
      "22      hday  Feature      Integer             None   \n",
      "23  diabetes  Feature   Continuous             None   \n",
      "24  dementia  Feature   Continuous             None   \n",
      "25        ca  Feature  Categorical             None   \n",
      "26     prg2m  Feature   Continuous             None   \n",
      "27     prg6m  Feature  Categorical             None   \n",
      "28       dnr  Feature  Categorical             None   \n",
      "29    dnrday  Feature   Continuous             None   \n",
      "30    meanbp  Feature   Continuous             None   \n",
      "31      wblc  Feature   Continuous             None   \n",
      "32       hrt  Feature   Continuous             None   \n",
      "33      resp  Feature   Continuous             None   \n",
      "34      temp  Feature   Continuous             None   \n",
      "35      pafi  Feature   Continuous             None   \n",
      "36       alb  Feature   Continuous             None   \n",
      "37      bili  Feature   Continuous             None   \n",
      "38      crea  Feature   Continuous             None   \n",
      "39       sod  Feature   Continuous             None   \n",
      "40        ph  Feature   Continuous             None   \n",
      "41   glucose  Feature      Integer             None   \n",
      "42       bun  Feature      Integer             None   \n",
      "43     urine  Feature      Integer             None   \n",
      "44      adlp  Feature  Categorical             None   \n",
      "45      adls  Feature   Continuous             None   \n",
      "46     sfdm2   Target  Categorical             None   \n",
      "47     adlsc  Feature   Continuous             None   \n",
      "\n",
      "                                                                                                                                                                                                                                                                                                                                                                                                                                                                                                                                        description  \\\n",
      "0                                                                                                                                                                                                                                                                                                                                                                                                                                                                                                                                              None   \n",
      "1                                                                                                                                                                                                                                                                                                                                                                                                                                                                                                                      Age of the patients in years   \n",
      "2                                                                                                                                                                                                                                                                                                                           Death at any time up to National Death Index (NDI) data on 31 of December of 1994. Some patients are discharged before the end of the study and are not followed up. The authors looked up the information about death.   \n",
      "3                                                                                                                                                                                                                                                                                                                                                                                                                                                                                          Gender of the patient. Listed values are {male, female}.   \n",
      "4                                                                                                                                                                                                                                                                                                                                                                                                                                                                                                                                 Death in hospital   \n",
      "5                                                                                                                                                                                                                                                                                                                                                                                                                                                                                                                Days from Study Entry to Discharge   \n",
      "6                                                                                                                                                                                                                                                                                                                                                                                                                                                                                                                                 Days of follow-up   \n",
      "7                                                                                                                                                                                                                                                                                                                                                                                                                 The patient's disease sub category amogst ARF/MOSF w/Sepsis, CHF, COPD, Cirrhosis, Colon Cancer, Coma, Lung Cancer, MOSF w/Malig.   \n",
      "8                                                                                                                                                                                                                                                                                                                                                                                                                                                        The patient's disease category amongst \"ARF/MOSF\", \"COPD/CHF/Cirrhosis\", \"Cancer\", \"Coma\".   \n",
      "9                                                                                                                                                                                                                                                                                                                                                                        The number of simultaneous diseases (or comorbidities) exhibited by the patient. Values are ordinal with higher values indicating worse condition and chances of survival.   \n",
      "10                                                                                                                                                                                                                                                                                                                                                                                                                                                                                                                               Years of education   \n",
      "11                                                                                                                                                                                                                                                                                                                                                                                                                                                        Income of the patient. Listed values are {\"$11-$25k\", \"$25-$50k\", \">$50k\", \"under $11k\"}.   \n",
      "12                                                                                                                                                                                                                                                                                                                                                                                                                                                                          SUPPORT day 3 Coma Score based on Glasgow scale (predicted by a model).   \n",
      "13                                                                                                                                                                                                                                                                                                                                                                                                                                                                                                                                 Hospital charges   \n",
      "14                                                                                                                                                                                                                                                                                                                                                                                                                                                                                                       Total ratio of costs to charges (RCC) cost   \n",
      "15                                                                                                                                                                                                                                                                                                                                                                                                                                                                                                                                 Total micro cost   \n",
      "16                                                                                                                                                                                                                                                                                                                                                        Average TISS score, days 3-25, where Therapeutic Intervention Scoring System (TISS) is a method for calculating costs in the intensive care unit (ICU) and intermediate care unit (IMCU).   \n",
      "17                                                                                                                                                                                                                                                                                                                                                                                                                                                          Race of the patient. Listed values are {asian, black, hispanic, missing, other, white}.   \n",
      "18                                                                                                                                                                                                                                                                                                                                                                                                                                                                                        SUPPORT physiology score on day 3 (predicted by a model).   \n",
      "19                                                                                                                                                                                                                                                                                                                                                                                                                                                                                APACHE III day 3 physiology score (no coma, imp bun,uout for ph1)   \n",
      "20                                                                                                                                                                                                                                                                                                                                                                                                                                                                         SUPPORT model 2-month survival estimate at day 3  (predicted by a model)   \n",
      "21                                                                                                                                                                                                                                                                                                                                                                                                                                                                         SUPPORT model 6-month survival estimate at day 3  (predicted by a model)   \n",
      "22                                                                                                                                                                                                                                                                                                                                                                                                                                                                                                  Day in hospital at which patient entered study.   \n",
      "23                                                                                                                                                                                                                                                                                                                                                                                                                                                        Whether the patient exhibits diabetes (Com 27-28, Dx 73) as a comorbidity (Y) or not (N).   \n",
      "24                                                                                                                                                                                                                                                                                                                                                                                                                                                           Whether the patient exhibits dementia (Comorbidity 6) as a comorbidity (Y) or not (N).   \n",
      "25                                                                                                                                                                                                                                                                                                                                                                                                                                          Whether the patient has cancer (yes), whether it has spread out (metastatic), or if it is healthy (no).   \n",
      "26                                                                                                                                                                                                                                                                                                                                                                                                                                                                                               Physician’s 2-month survival estimate for patient.   \n",
      "27                                                                                                                                                                                                                                                                                                                                                                                                                                                                                               Physician’s 6-month survival estimate for patient.   \n",
      "28                                                                                                                                                                                                                                                                                                                                                                                                          Whether the patient has a do not rescuscitate (DNR) order or not. Possible values are dnr after sadm, dnr before sadm, missing, no dnr.   \n",
      "29                                                                                                                                                                                                                                                                                                                                                                                                                                                                                                            Day of DNR order (<0 if before study)   \n",
      "30                                                                                                                                                                                                                                                                                                                                                                                                                                                                                  mean arterial blood pressure of the patient, measured at day 3.   \n",
      "31                                                                                                                                                                                                                                                                                                                                                                                                                                                                                    counts of white blood cells (in thousands) measured at day 3.   \n",
      "32                                                                                                                                                                                                                                                                                                                                                                                                                                                                                                     heart rate of the patient measured at day 3.   \n",
      "33                                                                                                                                                                                                                                                                                                                                                                                                                                                                                               respiration rate of the patient measured at day 3.   \n",
      "34                                                                                                                                                                                                                                                                                                                                                                                                                                                                                                temperature in Celsius degrees measured at day 3.   \n",
      "35                                                                                       $PaO_2/FiO_2$ ratio measured at day 3. The ratio of arterial oxygen partial pressure (PaO2 in mmHg) to fractional inspired oxygen (FiO2 expressed as a fraction). Widely used clinical indicator of hypoxaemia, though its diagnostic utility is controversial. Specific ranges of values can be associated with different levels of mortality. May be worth considering binning these values according to some ranges: https://litfl.com/pao2-fio2-ratio/   \n",
      "36                                                                                                                                                                                                                                                                                                                                                                                                                                                                                                          serum albumin levels measured at day 3.   \n",
      "37                                                                                                                                                                                                                                                                                                                                                                                                                                                                                                              bilirubin levels measured at day 3.   \n",
      "38                                                                                                                                                                                                                                                                                                                                                                                                                                                                                                       serum creatinine levels measured at day 3.   \n",
      "39                                                                                                                                                                                                                                                                                                                                                                                                                                                                                                    serum sodium concentration measured at day 3.   \n",
      "40                                                                                                                                                                                                                                                                                             Arterial blood pH. The pH of blood is usually between 7.35 and 7.45. Abnormal results may be due to lung, kidney, metabolic diseases, or medicines. Head or neck injuries or other injuries that affect breathing can also lead to abnormal results.   \n",
      "41                                                                                                                                                                                                                                                                                                                                                                                                                                                                                                                Glucose levels measured at day 3.   \n",
      "42                                                                                                                                                                                                                                                                                                                                                                                                                                                                                                    Blood urea nitrogen levels measured at day 3.   \n",
      "43                                                                                                                                                                                                                                                                                                                                                                                                                                                                                                                  Urine output measured at day 3.   \n",
      "44                                                                                                                                                                                                                                                                                                                                                                                          Index of Activities of Daily Living (ADL) of the patient, filled out by the patient. Higher values indicate more chance of survival, measured at day 3.   \n",
      "45                                                                                                                                                                                                                                                                                                                                                                     Index of Activities of Daily Living (ADL) of the patient, filled out by a surrogate (e.g. family member), measured at day 3. Higher values indicate more chance of survival.   \n",
      "46  Level of functional disability of the patient in a 1-5 scale, with 5 being the highest severity. The values were obtained via questionairres to the patient and/or surrogates to determine the Sickness Profile Impact (SIP). Values are correlated with ADLS, ADLP columns. Listed values are: {1: \"no(Month 2 and SIP pres)\", \"adl>=4 (>=5 if sur)\", \"SIP>=30\", \"Coma or Intub\", 5: \"<2 mo. follow-up\"}. There are 159 patients surviving 2 months for whom there were no patient or surrogate interviews. These patients have missing sfdm2.   \n",
      "47                                                                                                                                                                                                                                                                                                                                                                                                                                                                                                             Imputed ADL Calibrated to Surrogate.   \n",
      "\n",
      "    units missing_values  \n",
      "0    None             no  \n",
      "1   years             no  \n",
      "2    None             no  \n",
      "3    None             no  \n",
      "4    None             no  \n",
      "5    None             no  \n",
      "6    None             no  \n",
      "7    None             no  \n",
      "8    None             no  \n",
      "9    None             no  \n",
      "10  years            yes  \n",
      "11   None            yes  \n",
      "12   None            yes  \n",
      "13   None            yes  \n",
      "14   None            yes  \n",
      "15   None            yes  \n",
      "16   None            yes  \n",
      "17   None            yes  \n",
      "18   None            yes  \n",
      "19   None            yes  \n",
      "20   None            yes  \n",
      "21   None            yes  \n",
      "22   None             no  \n",
      "23   None             no  \n",
      "24   None             no  \n",
      "25   None             no  \n",
      "26   None            yes  \n",
      "27   None            yes  \n",
      "28   None            yes  \n",
      "29   None            yes  \n",
      "30   None            yes  \n",
      "31   None            yes  \n",
      "32   None            yes  \n",
      "33   None            yes  \n",
      "34   None             no  \n",
      "35   None            yes  \n",
      "36   None            yes  \n",
      "37   None            yes  \n",
      "38   None            yes  \n",
      "39   None            yes  \n",
      "40   None            yes  \n",
      "41   None            yes  \n",
      "42   None            yes  \n",
      "43   None            yes  \n",
      "44   None            yes  \n",
      "45   None            yes  \n",
      "46   None            yes  \n",
      "47   None             no  \n"
     ]
    }
   ],
   "execution_count": 60
  },
  {
   "metadata": {
    "ExecuteTime": {
     "end_time": "2024-09-22T17:30:13.213906Z",
     "start_time": "2024-09-22T17:30:13.206618Z"
    }
   },
   "cell_type": "code",
   "source": [
    "# y = y.replace({\"Adult\": 1, \"Senior\": 0})\n",
    "y.value_counts()"
   ],
   "id": "451b2590ce48e1f9",
   "outputs": [
    {
     "data": {
      "text/plain": [
       "death  hospdead  sfdm2              \n",
       "1      1         <2 mo. follow-up       2261\n",
       "0      0         no(M2 and SIP pres)    1673\n",
       "1      0         no(M2 and SIP pres)    1385\n",
       "                 <2 mo. follow-up        862\n",
       "                 adl>=4 (>=5 if sur)     506\n",
       "0      0         adl>=4 (>=5 if sur)     358\n",
       "1      0         SIP>=30                 292\n",
       "0      0         SIP>=30                 268\n",
       "1      1         adl>=4 (>=5 if sur)      52\n",
       "       0         Coma or Intub            25\n",
       "0      0         Coma or Intub             9\n",
       "1      1         Coma or Intub             7\n",
       "                 SIP>=30                   4\n",
       "                 no(M2 and SIP pres)       3\n",
       "Name: count, dtype: int64"
      ]
     },
     "execution_count": 62,
     "metadata": {},
     "output_type": "execute_result"
    }
   ],
   "execution_count": 62
  },
  {
   "metadata": {
    "ExecuteTime": {
     "end_time": "2024-09-22T17:28:19.662571Z",
     "start_time": "2024-09-22T17:28:19.645283Z"
    }
   },
   "cell_type": "code",
   "source": [
    "X_train, y_train,X_sample, y_sample, X_test, y_test = preprocess(X, y, 0.1)\n",
    "print(X_train.shape, X_sample.shape, X_test.shape)"
   ],
   "id": "1fe8dffbab2b2e4a",
   "outputs": [
    {
     "name": "stdout",
     "output_type": "stream",
     "text": [
      "Scaling numerical columns...\n",
      "X_train shape: (2050, 7)\n",
      "X_test shape: (228, 7)\n",
      "y_train shape: (2050, 1)\n",
      "y_test shape: (228, 1)\n",
      "X_sample shape: (205, 7)\n",
      "y_sample shape: (205, 1)\n",
      "(2050, 7) (205, 7) (228, 7)\n"
     ]
    }
   ],
   "execution_count": 57
  },
  {
   "metadata": {
    "ExecuteTime": {
     "end_time": "2024-09-22T17:28:20.541068Z",
     "start_time": "2024-09-22T17:28:20.395042Z"
    }
   },
   "cell_type": "code",
   "source": [
    "model = XGBClassifier()\n",
    "model.fit(X_train, y_train)\n",
    "predictions = model.predict(X_test)\n",
    "\n",
    "print(\"Accuracy:\", accuracy_score(y_test, predictions))\n",
    "print(\"F1 Score:\", f1_score(y_test, predictions, average='macro'))"
   ],
   "id": "6e04733f44f0932d",
   "outputs": [
    {
     "name": "stdout",
     "output_type": "stream",
     "text": [
      "Accuracy: 0.8289473684210527\n",
      "F1 Score: 0.5836883749239197\n"
     ]
    }
   ],
   "execution_count": 58
  },
  {
   "metadata": {
    "ExecuteTime": {
     "end_time": "2024-09-22T17:28:21.502894Z",
     "start_time": "2024-09-22T17:28:21.407143Z"
    }
   },
   "cell_type": "code",
   "source": [
    "model = XGBClassifier()\n",
    "model.fit(X_sample, y_sample)\n",
    "predictions = model.predict(X_test)\n",
    "\n",
    "print(\"Accuracy:\", accuracy_score(y_test, predictions))\n",
    "print(\"F1 Score:\", f1_score(y_test, predictions, average='macro'))"
   ],
   "id": "f015432a970d99c2",
   "outputs": [
    {
     "name": "stdout",
     "output_type": "stream",
     "text": [
      "Accuracy: 0.8026315789473685\n",
      "F1 Score: 0.5741855156671508\n"
     ]
    }
   ],
   "execution_count": 59
  },
  {
   "metadata": {},
   "cell_type": "code",
   "outputs": [],
   "execution_count": null,
   "source": "",
   "id": "eef157f1d08e0d51"
  }
 ],
 "metadata": {
  "kernelspec": {
   "display_name": "Python 3",
   "language": "python",
   "name": "python3"
  },
  "language_info": {
   "codemirror_mode": {
    "name": "ipython",
    "version": 2
   },
   "file_extension": ".py",
   "mimetype": "text/x-python",
   "name": "python",
   "nbconvert_exporter": "python",
   "pygments_lexer": "ipython2",
   "version": "2.7.6"
  }
 },
 "nbformat": 4,
 "nbformat_minor": 5
}
