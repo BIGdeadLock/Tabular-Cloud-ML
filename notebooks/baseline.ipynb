{
 "cells": [
  {
   "cell_type": "code",
   "id": "initial_id",
   "metadata": {
    "collapsed": true,
    "ExecuteTime": {
     "end_time": "2024-07-31T06:53:37.734437Z",
     "start_time": "2024-07-31T06:53:37.729243Z"
    }
   },
   "source": [
    "from sklearn.metrics import accuracy_score, f1_score\n",
    "import pickle\n",
    "import pathlib\n",
    "import os\n",
    "from xgboost import XGBClassifier\n",
    "\n"
   ],
   "outputs": [],
   "execution_count": 10
  },
  {
   "metadata": {
    "ExecuteTime": {
     "end_time": "2024-07-31T06:47:44.623202Z",
     "start_time": "2024-07-31T06:47:44.609964Z"
    }
   },
   "cell_type": "code",
   "source": [
    "PROJECT_PATH = os.getcwd()\n",
    "PROJECT_PATH = os.path.join(PROJECT_PATH, \"..\")\n",
    "MODELS_DIR = pathlib.Path(PROJECT_PATH) / \"store\" / \"models\"\n",
    "\n",
    "DATASET_DIR = pathlib.Path(PROJECT_PATH) / \"data\""
   ],
   "id": "1cbe3d41bafd97d2",
   "outputs": [],
   "execution_count": 3
  },
  {
   "metadata": {
    "ExecuteTime": {
     "end_time": "2024-07-31T06:49:11.789673Z",
     "start_time": "2024-07-31T06:49:11.772216Z"
    }
   },
   "cell_type": "code",
   "source": [
    "def load_data(dataset_name: str, split_ratio: float):\n",
    "    path = DATASET_DIR / dataset_name / f\"dataset_{split_ratio}.pkl\"\n",
    "\n",
    "    with open(path, \"rb\") as f:\n",
    "        return pickle.load(f)"
   ],
   "id": "fcc604145ddd8f36",
   "outputs": [],
   "execution_count": 4
  },
  {
   "metadata": {},
   "cell_type": "markdown",
   "source": "# Gesture Phase",
   "id": "1993091553db8d4e"
  },
  {
   "metadata": {
    "ExecuteTime": {
     "end_time": "2024-07-31T06:51:13.826515Z",
     "start_time": "2024-07-31T06:51:13.815525Z"
    }
   },
   "cell_type": "code",
   "source": [
    "X_train, y_train, X_test, y_test = load_data(\"gesture_phase\", 0.2)\n",
    "X_train.shape, y_train.shape, X_test.shape, y_test.shape"
   ],
   "id": "d92752ff63ee3f01",
   "outputs": [
    {
     "data": {
      "text/plain": [
       "((1777, 32), (1777,), (988, 32), (988,))"
      ]
     },
     "execution_count": 8,
     "metadata": {},
     "output_type": "execute_result"
    }
   ],
   "execution_count": 8
  },
  {
   "metadata": {
    "ExecuteTime": {
     "end_time": "2024-07-31T06:53:24.136153Z",
     "start_time": "2024-07-31T06:53:22.635185Z"
    }
   },
   "cell_type": "code",
   "source": [
    "clf = XGBClassifier()\n",
    "clf.fit(X_train, y_train)\n"
   ],
   "id": "9b40c968b04e7eb4",
   "outputs": [
    {
     "data": {
      "text/plain": [
       "XGBClassifier(base_score=None, booster=None, callbacks=None,\n",
       "              colsample_bylevel=None, colsample_bynode=None,\n",
       "              colsample_bytree=None, device=None, early_stopping_rounds=None,\n",
       "              enable_categorical=False, eval_metric=None, feature_types=None,\n",
       "              gamma=None, grow_policy=None, importance_type=None,\n",
       "              interaction_constraints=None, learning_rate=None, max_bin=None,\n",
       "              max_cat_threshold=None, max_cat_to_onehot=None,\n",
       "              max_delta_step=None, max_depth=None, max_leaves=None,\n",
       "              min_child_weight=None, missing=nan, monotone_constraints=None,\n",
       "              multi_strategy=None, n_estimators=None, n_jobs=None,\n",
       "              num_parallel_tree=None, objective='multi:softprob', ...)"
      ],
      "text/html": [
       "<style>#sk-container-id-1 {color: black;}#sk-container-id-1 pre{padding: 0;}#sk-container-id-1 div.sk-toggleable {background-color: white;}#sk-container-id-1 label.sk-toggleable__label {cursor: pointer;display: block;width: 100%;margin-bottom: 0;padding: 0.3em;box-sizing: border-box;text-align: center;}#sk-container-id-1 label.sk-toggleable__label-arrow:before {content: \"▸\";float: left;margin-right: 0.25em;color: #696969;}#sk-container-id-1 label.sk-toggleable__label-arrow:hover:before {color: black;}#sk-container-id-1 div.sk-estimator:hover label.sk-toggleable__label-arrow:before {color: black;}#sk-container-id-1 div.sk-toggleable__content {max-height: 0;max-width: 0;overflow: hidden;text-align: left;background-color: #f0f8ff;}#sk-container-id-1 div.sk-toggleable__content pre {margin: 0.2em;color: black;border-radius: 0.25em;background-color: #f0f8ff;}#sk-container-id-1 input.sk-toggleable__control:checked~div.sk-toggleable__content {max-height: 200px;max-width: 100%;overflow: auto;}#sk-container-id-1 input.sk-toggleable__control:checked~label.sk-toggleable__label-arrow:before {content: \"▾\";}#sk-container-id-1 div.sk-estimator input.sk-toggleable__control:checked~label.sk-toggleable__label {background-color: #d4ebff;}#sk-container-id-1 div.sk-label input.sk-toggleable__control:checked~label.sk-toggleable__label {background-color: #d4ebff;}#sk-container-id-1 input.sk-hidden--visually {border: 0;clip: rect(1px 1px 1px 1px);clip: rect(1px, 1px, 1px, 1px);height: 1px;margin: -1px;overflow: hidden;padding: 0;position: absolute;width: 1px;}#sk-container-id-1 div.sk-estimator {font-family: monospace;background-color: #f0f8ff;border: 1px dotted black;border-radius: 0.25em;box-sizing: border-box;margin-bottom: 0.5em;}#sk-container-id-1 div.sk-estimator:hover {background-color: #d4ebff;}#sk-container-id-1 div.sk-parallel-item::after {content: \"\";width: 100%;border-bottom: 1px solid gray;flex-grow: 1;}#sk-container-id-1 div.sk-label:hover label.sk-toggleable__label {background-color: #d4ebff;}#sk-container-id-1 div.sk-serial::before {content: \"\";position: absolute;border-left: 1px solid gray;box-sizing: border-box;top: 0;bottom: 0;left: 50%;z-index: 0;}#sk-container-id-1 div.sk-serial {display: flex;flex-direction: column;align-items: center;background-color: white;padding-right: 0.2em;padding-left: 0.2em;position: relative;}#sk-container-id-1 div.sk-item {position: relative;z-index: 1;}#sk-container-id-1 div.sk-parallel {display: flex;align-items: stretch;justify-content: center;background-color: white;position: relative;}#sk-container-id-1 div.sk-item::before, #sk-container-id-1 div.sk-parallel-item::before {content: \"\";position: absolute;border-left: 1px solid gray;box-sizing: border-box;top: 0;bottom: 0;left: 50%;z-index: -1;}#sk-container-id-1 div.sk-parallel-item {display: flex;flex-direction: column;z-index: 1;position: relative;background-color: white;}#sk-container-id-1 div.sk-parallel-item:first-child::after {align-self: flex-end;width: 50%;}#sk-container-id-1 div.sk-parallel-item:last-child::after {align-self: flex-start;width: 50%;}#sk-container-id-1 div.sk-parallel-item:only-child::after {width: 0;}#sk-container-id-1 div.sk-dashed-wrapped {border: 1px dashed gray;margin: 0 0.4em 0.5em 0.4em;box-sizing: border-box;padding-bottom: 0.4em;background-color: white;}#sk-container-id-1 div.sk-label label {font-family: monospace;font-weight: bold;display: inline-block;line-height: 1.2em;}#sk-container-id-1 div.sk-label-container {text-align: center;}#sk-container-id-1 div.sk-container {/* jupyter's `normalize.less` sets `[hidden] { display: none; }` but bootstrap.min.css set `[hidden] { display: none !important; }` so we also need the `!important` here to be able to override the default hidden behavior on the sphinx rendered scikit-learn.org. See: https://github.com/scikit-learn/scikit-learn/issues/21755 */display: inline-block !important;position: relative;}#sk-container-id-1 div.sk-text-repr-fallback {display: none;}</style><div id=\"sk-container-id-1\" class=\"sk-top-container\"><div class=\"sk-text-repr-fallback\"><pre>XGBClassifier(base_score=None, booster=None, callbacks=None,\n",
       "              colsample_bylevel=None, colsample_bynode=None,\n",
       "              colsample_bytree=None, device=None, early_stopping_rounds=None,\n",
       "              enable_categorical=False, eval_metric=None, feature_types=None,\n",
       "              gamma=None, grow_policy=None, importance_type=None,\n",
       "              interaction_constraints=None, learning_rate=None, max_bin=None,\n",
       "              max_cat_threshold=None, max_cat_to_onehot=None,\n",
       "              max_delta_step=None, max_depth=None, max_leaves=None,\n",
       "              min_child_weight=None, missing=nan, monotone_constraints=None,\n",
       "              multi_strategy=None, n_estimators=None, n_jobs=None,\n",
       "              num_parallel_tree=None, objective=&#x27;multi:softprob&#x27;, ...)</pre><b>In a Jupyter environment, please rerun this cell to show the HTML representation or trust the notebook. <br />On GitHub, the HTML representation is unable to render, please try loading this page with nbviewer.org.</b></div><div class=\"sk-container\" hidden><div class=\"sk-item\"><div class=\"sk-estimator sk-toggleable\"><input class=\"sk-toggleable__control sk-hidden--visually\" id=\"sk-estimator-id-1\" type=\"checkbox\" checked><label for=\"sk-estimator-id-1\" class=\"sk-toggleable__label sk-toggleable__label-arrow\">XGBClassifier</label><div class=\"sk-toggleable__content\"><pre>XGBClassifier(base_score=None, booster=None, callbacks=None,\n",
       "              colsample_bylevel=None, colsample_bynode=None,\n",
       "              colsample_bytree=None, device=None, early_stopping_rounds=None,\n",
       "              enable_categorical=False, eval_metric=None, feature_types=None,\n",
       "              gamma=None, grow_policy=None, importance_type=None,\n",
       "              interaction_constraints=None, learning_rate=None, max_bin=None,\n",
       "              max_cat_threshold=None, max_cat_to_onehot=None,\n",
       "              max_delta_step=None, max_depth=None, max_leaves=None,\n",
       "              min_child_weight=None, missing=nan, monotone_constraints=None,\n",
       "              multi_strategy=None, n_estimators=None, n_jobs=None,\n",
       "              num_parallel_tree=None, objective=&#x27;multi:softprob&#x27;, ...)</pre></div></div></div></div></div>"
      ]
     },
     "execution_count": 9,
     "metadata": {},
     "output_type": "execute_result"
    }
   ],
   "execution_count": 9
  },
  {
   "metadata": {
    "ExecuteTime": {
     "end_time": "2024-07-31T06:54:24.521690Z",
     "start_time": "2024-07-31T06:54:24.507643Z"
    }
   },
   "cell_type": "code",
   "source": [
    "preds = clf.predict(X_test)\n",
    "accuracy_score(y_test, preds), f1_score(y_test, preds, average='weighted')"
   ],
   "id": "3a0d5be89beeb65d",
   "outputs": [
    {
     "data": {
      "text/plain": [
       "(0.6153846153846154, 0.5984407447266358)"
      ]
     },
     "execution_count": 12,
     "metadata": {},
     "output_type": "execute_result"
    }
   ],
   "execution_count": 12
  },
  {
   "metadata": {},
   "cell_type": "code",
   "outputs": [],
   "execution_count": null,
   "source": "",
   "id": "8e0d8ac4bfacf192"
  },
  {
   "metadata": {},
   "cell_type": "code",
   "outputs": [
    {
     "name": "stdout",
     "output_type": "stream",
     "text": [
      "{'train': [array([[-1.97918823,  0.86382736,  0.04923358, ...,  0.12312257,\n",
      "         0.05773017,  0.02598728],\n",
      "       [-0.00387541, -0.06456852, -0.04749759, ...,  0.12326053,\n",
      "         0.05779486,  0.02489583],\n",
      "       [-0.5907037 ,  1.39943731, -0.31360519, ...,  0.12504772,\n",
      "         0.05863285,  0.0252568 ],\n",
      "       ...,\n",
      "       [ 0.71289846, -0.45646496, -0.08628519, ...,  0.12312257,\n",
      "         0.05773017,  0.02598728],\n",
      "       [-0.20713548,  0.37007397, -0.01031041, ...,  0.12326053,\n",
      "         0.05779486,  0.02489583],\n",
      "       [ 1.14746661,  1.1056628 , -0.20582642, ...,  0.11910935,\n",
      "         0.05799439,  0.02610622]]), array([0, 2, 0, ..., 1, 0, 4])], 'test': [array([[ 2.79640224,  1.40675162,  1.24335887, ...,  0.12312257,\n",
      "         0.05773017,  0.02598728],\n",
      "       [ 0.09461413, -0.00367356, -0.00689974, ...,  0.12490573,\n",
      "         0.05856627,  0.02636365],\n",
      "       [ 0.52061317, -0.09750888,  0.17455672, ...,  0.12490573,\n",
      "         0.05856627,  0.02636365],\n",
      "       ...,\n",
      "       [ 0.10489071, -1.29643568, -0.00511047, ...,  0.12312257,\n",
      "         0.05773017,  0.02598728],\n",
      "       [-0.11570668, -0.49013808, -0.19519572, ...,  0.12019101,\n",
      "         0.05892726,  0.02584688],\n",
      "       [-0.37060127,  0.25042636,  0.04863203, ...,  0.12312257,\n",
      "         0.05773017,  0.02598728]]), array([2, 1, 4, 1, 1, 4, 0, 2, 1, 0, 4, 3, 2, 2, 2, 0, 1, 3, 0, 1, 0, 2,\n",
      "       2, 1, 4, 3, 1, 3, 0, 2, 4, 1, 3, 1, 3, 3, 0, 1, 4, 0, 1, 0, 2, 1,\n",
      "       0, 0, 1, 1, 1, 2, 0, 2, 0, 0, 1, 2, 0, 0, 1, 1, 0, 2, 2, 3, 0, 1,\n",
      "       1, 1, 0, 1, 2, 1, 4, 1, 1, 0, 0, 2, 3, 4, 1, 0, 1, 0, 2, 2, 0, 0,\n",
      "       0, 1, 0, 0, 2, 0, 0, 2, 2, 1, 0, 3, 0, 1, 1, 1, 3, 2, 1, 2, 4, 2,\n",
      "       1, 3, 0, 0, 1, 3, 4, 2, 0, 3, 3, 2, 2, 0, 1, 1, 2, 1, 0, 0, 1, 0,\n",
      "       0, 2, 0, 2, 3, 3, 3, 2, 2, 1, 3, 0, 2, 3, 0, 3, 1, 1, 1, 1, 1, 1,\n",
      "       3, 0, 2, 2, 0, 4, 4, 0, 3, 2, 4, 2, 0, 4, 1, 2, 0, 2, 0, 0, 4, 2,\n",
      "       1, 1, 2, 0, 3, 3, 1, 3, 1, 3, 1, 0, 4, 4, 0, 1, 4, 3, 2, 0, 1, 4,\n",
      "       0, 1, 1, 2, 3, 0, 0, 1, 1, 0, 3, 2, 0, 3, 3, 0, 3, 1, 0, 1, 4, 0,\n",
      "       3, 2, 1, 1, 1, 2, 0, 1, 0, 1, 3, 0, 4, 1, 4, 0, 2, 1, 2, 1, 3, 0,\n",
      "       3, 0, 1, 1, 2, 2, 1, 2, 0, 0, 4, 4, 1, 4, 4, 1, 1, 0, 3, 0, 4, 0,\n",
      "       1, 2, 2, 3, 1, 4, 3, 0, 0, 1, 4, 1, 2, 0, 0, 1, 2, 3, 2, 0, 1, 4,\n",
      "       1, 1, 2, 0, 1, 2, 3, 0, 0, 4, 4, 1, 2, 0, 4, 2, 3, 4, 0, 0, 2, 2,\n",
      "       1, 3, 4, 1, 0, 0, 1, 1, 0, 0, 3, 0, 4, 1, 1, 4, 0, 0, 3, 0, 3, 3,\n",
      "       4, 0, 2, 2, 2, 2, 0, 3, 4, 4, 2, 1, 0, 1, 4, 4, 3, 1, 0, 0, 2, 0,\n",
      "       2, 4, 0, 3, 3, 2, 3, 0, 2, 1, 1, 1, 1, 1, 4, 2, 0, 2, 0, 0, 2, 2,\n",
      "       4, 0, 2, 2, 3, 2, 0, 1, 0, 3, 1, 4, 1, 1, 1, 1, 2, 1, 1, 0, 2, 4,\n",
      "       0, 3, 1, 3, 0, 2, 3, 2, 1, 1, 1, 0, 2, 0, 0, 1, 2, 1, 1, 4, 2, 3,\n",
      "       1, 0, 2, 3, 0, 2, 1, 1, 2, 0, 0, 3, 1, 0, 2, 0, 4, 0, 0, 0, 0, 1,\n",
      "       1, 2, 0, 2, 0, 0, 0, 1, 2, 0, 3, 1, 1, 1, 1, 1, 3, 0, 1, 2, 2, 0,\n",
      "       3, 0, 2, 1, 4, 0, 4, 4, 2, 2, 0, 4, 0, 0, 2, 2, 3, 2, 1, 0, 0, 0,\n",
      "       0, 2, 1, 0, 0, 1, 3, 2, 2, 0, 1, 0, 0, 2, 0, 1, 3, 1, 3, 0, 0, 3,\n",
      "       1, 1, 1, 2, 1, 1, 1, 2, 2, 4, 0, 0, 1, 4, 0, 0, 0, 0, 1, 1, 4, 2,\n",
      "       2, 3, 0, 1, 2, 3, 2, 1, 2, 0, 2, 0, 4, 3, 0, 1, 0, 1, 2, 0, 0, 0,\n",
      "       0, 2, 2, 1, 1, 0, 3, 1, 0, 1, 3, 2, 1, 0, 1, 1, 1, 2, 1, 2, 0, 1,\n",
      "       0, 2, 1, 1, 2, 3, 4, 0, 0, 1, 0, 2, 2, 2, 0, 0, 0, 2, 0, 1, 0, 4,\n",
      "       4, 3, 0, 0, 0, 0, 0, 1, 4, 2, 2, 1, 0, 3, 2, 0, 2, 1, 1, 0, 2, 1,\n",
      "       2, 0, 4, 0, 0, 4, 0, 1, 1, 3, 2, 0, 0, 2, 4, 0, 2, 2, 0, 0, 1, 0,\n",
      "       2, 0, 2, 4, 1, 4, 4, 2, 2, 2, 0, 3, 3, 0, 0, 4, 0, 0, 3, 1, 0, 3,\n",
      "       3, 2, 0, 2, 2, 2, 0, 1, 3, 3, 3, 3, 0, 1, 1, 3, 1, 2, 0, 0, 0, 1,\n",
      "       0, 4, 2, 1, 2, 1, 4, 1, 1, 1, 1, 0, 4, 4, 0, 4, 1, 0, 0, 1, 0, 2,\n",
      "       1, 1, 0, 2, 1, 0, 2, 0, 3, 1, 1, 1, 4, 1, 0, 1, 0, 2, 4, 1, 1, 0,\n",
      "       3, 1, 0, 0, 2, 3, 0, 1, 2, 0, 2, 0, 1, 4, 2, 0, 4, 4, 1, 0, 1, 3,\n",
      "       1, 2, 0, 0, 1, 2, 1, 0, 0, 2, 3, 4, 1, 4, 1, 0, 0, 1, 0, 2, 1, 2,\n",
      "       1, 1, 4, 3, 2, 1, 2, 1, 0, 0, 1, 1, 2, 2, 1, 3, 1, 2, 3, 0, 1, 2,\n",
      "       1, 4, 1, 0, 1, 0, 0, 1, 1, 0, 2, 1, 3, 3, 1, 2, 1, 2, 1, 0, 0, 4,\n",
      "       3, 0, 1, 0, 4, 1, 2, 1, 2, 2, 3, 1, 1, 1, 1, 0, 1, 3, 2, 2, 0, 1,\n",
      "       0, 0, 0, 1, 1, 0, 0, 0, 1, 4, 2, 1, 0, 2, 1, 4, 1, 1, 1, 2, 2, 3,\n",
      "       4, 4, 4, 2, 4, 1, 3, 3, 4, 1, 0, 0, 1, 2, 0, 1, 4, 3, 1, 0, 2, 0,\n",
      "       2, 1, 3, 2, 2, 2, 4, 2, 0, 2, 1, 3, 1, 0, 1, 3, 2, 3, 0, 0, 0, 2,\n",
      "       4, 0, 3, 3, 0, 1, 1, 0, 3, 1, 3, 2, 1, 2, 1, 3, 0, 1, 1, 1, 0, 1,\n",
      "       2, 2, 2, 1, 1, 1, 0, 1, 1, 0, 2, 0, 2, 1, 0, 1, 0, 0, 0, 1, 1, 4,\n",
      "       0, 4, 2, 2, 1, 0, 0, 1, 0, 3, 3, 3, 2, 2, 3, 1, 1, 1, 1, 1, 1, 2,\n",
      "       2, 1, 2, 4, 3, 0, 2, 2, 1, 2, 0, 0, 1, 0, 0, 1, 2, 0, 0, 2])]}\n"
     ]
    }
   ],
   "execution_count": 14,
   "source": [
    "with open(r\"C:\\Users\\eden.yavin\\Projects\\Tabular-Cloud-ML\\store\\dataset\\gesture_phase_0.2.pkl\", \"rb\") as f:\n",
    "    print(pickle.load(f))"
   ],
   "id": "33e1eb4df8d90e6f"
  }
 ],
 "metadata": {
  "kernelspec": {
   "display_name": "Python 3",
   "language": "python",
   "name": "python3"
  },
  "language_info": {
   "codemirror_mode": {
    "name": "ipython",
    "version": 2
   },
   "file_extension": ".py",
   "mimetype": "text/x-python",
   "name": "python",
   "nbconvert_exporter": "python",
   "pygments_lexer": "ipython2",
   "version": "2.7.6"
  }
 },
 "nbformat": 4,
 "nbformat_minor": 5
}
