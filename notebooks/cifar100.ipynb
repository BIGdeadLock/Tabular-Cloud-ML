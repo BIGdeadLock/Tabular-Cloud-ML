{
 "cells": [
  {
   "cell_type": "code",
   "id": "initial_id",
   "metadata": {
    "collapsed": true,
    "ExecuteTime": {
     "end_time": "2024-11-25T19:34:41.240222Z",
     "start_time": "2024-11-25T19:34:41.093068Z"
    }
   },
   "source": [
    "from keras.datasets import cifar100\n",
    "\n",
    "(x_train, y_train), (x_test, y_test) = cifar100.load_data()"
   ],
   "outputs": [],
   "execution_count": 2
  },
  {
   "metadata": {
    "ExecuteTime": {
     "end_time": "2024-11-25T19:34:41.947050Z",
     "start_time": "2024-11-25T19:34:41.843709Z"
    }
   },
   "cell_type": "code",
   "source": [
    "from keras.utils import to_categorical\n",
    "\n",
    "x_train = x_train.astype('float32') / 255.0\n",
    "x_test = x_test.astype('float32') / 255.0\n",
    "\n",
    "y_train = to_categorical(y_train, 100)\n",
    "y_test = to_categorical(y_test, 100)"
   ],
   "id": "e31fc44705f90dce",
   "outputs": [],
   "execution_count": 3
  },
  {
   "metadata": {
    "ExecuteTime": {
     "end_time": "2024-11-25T19:34:42.803377Z",
     "start_time": "2024-11-25T19:34:42.398496Z"
    }
   },
   "cell_type": "code",
   "source": [
    "from keras.applications import VGG16\n",
    "from keras.models import Model\n",
    "from keras.layers import Dense, Flatten\n",
    "\n",
    "base_model = VGG16(weights='imagenet', include_top=False, input_shape=(32, 32, 3))\n",
    "x = base_model.output\n",
    "x = Flatten()(x)\n",
    "predictions = Dense(100, activation='softmax')(x)\n",
    "\n",
    "model = Model(inputs=base_model.input, outputs=predictions)"
   ],
   "id": "17c36ad0a3c57d6c",
   "outputs": [
    {
     "name": "stderr",
     "output_type": "stream",
     "text": [
      "2024-11-25 21:34:42.404564: I metal_plugin/src/device/metal_device.cc:1154] Metal device set to: Apple M3 Pro\n",
      "2024-11-25 21:34:42.404589: I metal_plugin/src/device/metal_device.cc:296] systemMemory: 36.00 GB\n",
      "2024-11-25 21:34:42.404593: I metal_plugin/src/device/metal_device.cc:313] maxCacheSize: 13.50 GB\n",
      "2024-11-25 21:34:42.404624: I tensorflow/core/common_runtime/pluggable_device/pluggable_device_factory.cc:305] Could not identify NUMA node of platform GPU ID 0, defaulting to 0. Your kernel may not have been built with NUMA support.\n",
      "2024-11-25 21:34:42.404633: I tensorflow/core/common_runtime/pluggable_device/pluggable_device_factory.cc:271] Created TensorFlow device (/job:localhost/replica:0/task:0/device:GPU:0 with 0 MB memory) -> physical PluggableDevice (device: 0, name: METAL, pci bus id: <undefined>)\n"
     ]
    }
   ],
   "execution_count": 4
  },
  {
   "metadata": {
    "ExecuteTime": {
     "end_time": "2024-11-25T19:34:43.568971Z",
     "start_time": "2024-11-25T19:34:43.565462Z"
    }
   },
   "cell_type": "code",
   "source": [
    "for layer in base_model.layers:\n",
    "    layer.trainable = False"
   ],
   "id": "36b08d19ef0b7a79",
   "outputs": [],
   "execution_count": 5
  },
  {
   "metadata": {
    "ExecuteTime": {
     "end_time": "2024-11-25T19:34:43.997380Z",
     "start_time": "2024-11-25T19:34:43.982143Z"
    }
   },
   "cell_type": "code",
   "source": [
    "from keras.optimizers import Adam\n",
    "\n",
    "model.compile(optimizer=Adam(learning_rate=0.001), loss='categorical_crossentropy', metrics=['accuracy'])"
   ],
   "id": "e34eb44c8dae2b51",
   "outputs": [],
   "execution_count": 6
  },
  {
   "metadata": {
    "ExecuteTime": {
     "end_time": "2024-11-25T19:37:14.565474Z",
     "start_time": "2024-11-25T19:34:45.269345Z"
    }
   },
   "cell_type": "code",
   "source": "model.fit(x_train, y_train, batch_size=64, epochs=10, validation_data=(x_test, y_test))",
   "id": "b9851831a8303ee0",
   "outputs": [
    {
     "name": "stdout",
     "output_type": "stream",
     "text": [
      "Epoch 1/10\n"
     ]
    },
    {
     "name": "stderr",
     "output_type": "stream",
     "text": [
      "2024-11-25 21:34:45.673901: I tensorflow/core/grappler/optimizers/custom_graph_optimizer_registry.cc:117] Plugin optimizer for device_type GPU is enabled.\n"
     ]
    },
    {
     "name": "stdout",
     "output_type": "stream",
     "text": [
      "\u001B[1m782/782\u001B[0m \u001B[32m━━━━━━━━━━━━━━━━━━━━\u001B[0m\u001B[37m\u001B[0m \u001B[1m16s\u001B[0m 20ms/step - accuracy: 0.1340 - loss: 3.9143 - val_accuracy: 0.2601 - val_loss: 3.1257\n",
      "Epoch 2/10\n",
      "\u001B[1m782/782\u001B[0m \u001B[32m━━━━━━━━━━━━━━━━━━━━\u001B[0m\u001B[37m\u001B[0m \u001B[1m14s\u001B[0m 18ms/step - accuracy: 0.2786 - loss: 3.0217 - val_accuracy: 0.2938 - val_loss: 2.9162\n",
      "Epoch 3/10\n",
      "\u001B[1m782/782\u001B[0m \u001B[32m━━━━━━━━━━━━━━━━━━━━\u001B[0m\u001B[37m\u001B[0m \u001B[1m15s\u001B[0m 20ms/step - accuracy: 0.3059 - loss: 2.8263 - val_accuracy: 0.3118 - val_loss: 2.8193\n",
      "Epoch 4/10\n",
      "\u001B[1m782/782\u001B[0m \u001B[32m━━━━━━━━━━━━━━━━━━━━\u001B[0m\u001B[37m\u001B[0m \u001B[1m14s\u001B[0m 19ms/step - accuracy: 0.3342 - loss: 2.6945 - val_accuracy: 0.3257 - val_loss: 2.7626\n",
      "Epoch 5/10\n",
      "\u001B[1m782/782\u001B[0m \u001B[32m━━━━━━━━━━━━━━━━━━━━\u001B[0m\u001B[37m\u001B[0m \u001B[1m14s\u001B[0m 18ms/step - accuracy: 0.3530 - loss: 2.6115 - val_accuracy: 0.3329 - val_loss: 2.7142\n",
      "Epoch 6/10\n",
      "\u001B[1m782/782\u001B[0m \u001B[32m━━━━━━━━━━━━━━━━━━━━\u001B[0m\u001B[37m\u001B[0m \u001B[1m15s\u001B[0m 20ms/step - accuracy: 0.3586 - loss: 2.5683 - val_accuracy: 0.3380 - val_loss: 2.6826\n",
      "Epoch 7/10\n",
      "\u001B[1m782/782\u001B[0m \u001B[32m━━━━━━━━━━━━━━━━━━━━\u001B[0m\u001B[37m\u001B[0m \u001B[1m15s\u001B[0m 20ms/step - accuracy: 0.3732 - loss: 2.4883 - val_accuracy: 0.3475 - val_loss: 2.6583\n",
      "Epoch 8/10\n",
      "\u001B[1m782/782\u001B[0m \u001B[32m━━━━━━━━━━━━━━━━━━━━\u001B[0m\u001B[37m\u001B[0m \u001B[1m15s\u001B[0m 19ms/step - accuracy: 0.3815 - loss: 2.4569 - val_accuracy: 0.3473 - val_loss: 2.6386\n",
      "Epoch 9/10\n",
      "\u001B[1m782/782\u001B[0m \u001B[32m━━━━━━━━━━━━━━━━━━━━\u001B[0m\u001B[37m\u001B[0m \u001B[1m15s\u001B[0m 19ms/step - accuracy: 0.3868 - loss: 2.4201 - val_accuracy: 0.3538 - val_loss: 2.6261\n",
      "Epoch 10/10\n",
      "\u001B[1m782/782\u001B[0m \u001B[32m━━━━━━━━━━━━━━━━━━━━\u001B[0m\u001B[37m\u001B[0m \u001B[1m14s\u001B[0m 18ms/step - accuracy: 0.3924 - loss: 2.3980 - val_accuracy: 0.3549 - val_loss: 2.6112\n"
     ]
    },
    {
     "data": {
      "text/plain": [
       "<keras.src.callbacks.history.History at 0x336eee590>"
      ]
     },
     "execution_count": 7,
     "metadata": {},
     "output_type": "execute_result"
    }
   ],
   "execution_count": 7
  },
  {
   "metadata": {
    "ExecuteTime": {
     "end_time": "2024-11-25T19:40:41.490767Z",
     "start_time": "2024-11-25T19:37:14.630768Z"
    }
   },
   "cell_type": "code",
   "source": [
    "for layer in base_model.layers[-4:]:\n",
    "    layer.trainable = True\n",
    "\n",
    "model.compile(optimizer=Adam(learning_rate=0.0001), loss='categorical_crossentropy', metrics=['accuracy'])\n",
    "\n",
    "model.fit(x_train, y_train, batch_size=64, epochs=10, validation_data=(x_test, y_test))"
   ],
   "id": "f72494dbe5763c19",
   "outputs": [
    {
     "name": "stdout",
     "output_type": "stream",
     "text": [
      "Epoch 1/10\n",
      "\u001B[1m782/782\u001B[0m \u001B[32m━━━━━━━━━━━━━━━━━━━━\u001B[0m\u001B[37m\u001B[0m \u001B[1m22s\u001B[0m 27ms/step - accuracy: 0.3678 - loss: 2.4574 - val_accuracy: 0.4059 - val_loss: 2.3028\n",
      "Epoch 2/10\n",
      "\u001B[1m782/782\u001B[0m \u001B[32m━━━━━━━━━━━━━━━━━━━━\u001B[0m\u001B[37m\u001B[0m \u001B[1m21s\u001B[0m 26ms/step - accuracy: 0.4877 - loss: 1.8843 - val_accuracy: 0.4426 - val_loss: 2.1359\n",
      "Epoch 3/10\n",
      "\u001B[1m782/782\u001B[0m \u001B[32m━━━━━━━━━━━━━━━━━━━━\u001B[0m\u001B[37m\u001B[0m \u001B[1m21s\u001B[0m 27ms/step - accuracy: 0.5659 - loss: 1.5538 - val_accuracy: 0.4596 - val_loss: 2.1215\n",
      "Epoch 4/10\n",
      "\u001B[1m782/782\u001B[0m \u001B[32m━━━━━━━━━━━━━━━━━━━━\u001B[0m\u001B[37m\u001B[0m \u001B[1m21s\u001B[0m 27ms/step - accuracy: 0.6472 - loss: 1.2425 - val_accuracy: 0.4699 - val_loss: 2.1559\n",
      "Epoch 5/10\n",
      "\u001B[1m782/782\u001B[0m \u001B[32m━━━━━━━━━━━━━━━━━━━━\u001B[0m\u001B[37m\u001B[0m \u001B[1m21s\u001B[0m 27ms/step - accuracy: 0.7290 - loss: 0.9403 - val_accuracy: 0.4708 - val_loss: 2.2177\n",
      "Epoch 6/10\n",
      "\u001B[1m782/782\u001B[0m \u001B[32m━━━━━━━━━━━━━━━━━━━━\u001B[0m\u001B[37m\u001B[0m \u001B[1m21s\u001B[0m 27ms/step - accuracy: 0.8006 - loss: 0.6829 - val_accuracy: 0.4716 - val_loss: 2.4020\n",
      "Epoch 7/10\n",
      "\u001B[1m782/782\u001B[0m \u001B[32m━━━━━━━━━━━━━━━━━━━━\u001B[0m\u001B[37m\u001B[0m \u001B[1m20s\u001B[0m 26ms/step - accuracy: 0.8617 - loss: 0.4778 - val_accuracy: 0.4831 - val_loss: 2.5291\n",
      "Epoch 8/10\n",
      "\u001B[1m782/782\u001B[0m \u001B[32m━━━━━━━━━━━━━━━━━━━━\u001B[0m\u001B[37m\u001B[0m \u001B[1m19s\u001B[0m 24ms/step - accuracy: 0.9098 - loss: 0.3229 - val_accuracy: 0.4694 - val_loss: 2.6712\n",
      "Epoch 9/10\n",
      "\u001B[1m782/782\u001B[0m \u001B[32m━━━━━━━━━━━━━━━━━━━━\u001B[0m\u001B[37m\u001B[0m \u001B[1m21s\u001B[0m 27ms/step - accuracy: 0.9375 - loss: 0.2296 - val_accuracy: 0.4781 - val_loss: 2.9195\n",
      "Epoch 10/10\n",
      "\u001B[1m782/782\u001B[0m \u001B[32m━━━━━━━━━━━━━━━━━━━━\u001B[0m\u001B[37m\u001B[0m \u001B[1m21s\u001B[0m 26ms/step - accuracy: 0.9583 - loss: 0.1613 - val_accuracy: 0.4621 - val_loss: 3.1330\n"
     ]
    },
    {
     "data": {
      "text/plain": [
       "<keras.src.callbacks.history.History at 0x3a911afe0>"
      ]
     },
     "execution_count": 8,
     "metadata": {},
     "output_type": "execute_result"
    }
   ],
   "execution_count": 8
  },
  {
   "metadata": {
    "ExecuteTime": {
     "end_time": "2024-11-25T19:40:41.580590Z",
     "start_time": "2024-11-25T19:40:41.498711Z"
    }
   },
   "cell_type": "code",
   "source": "model.save(\"/Users/eden.yavin/Projects/Tabular-Cloud-ML/store/models/cifar100_vgg.keras\")",
   "id": "940a262ba822ef4f",
   "outputs": [],
   "execution_count": 9
  },
  {
   "metadata": {
    "ExecuteTime": {
     "end_time": "2024-11-25T19:34:36.022499Z",
     "start_time": "2024-11-25T19:34:30.203180Z"
    }
   },
   "cell_type": "code",
   "source": [
    "\n",
    "import tensorflow as tf\n",
    "print(f\"TensorFlow has access to the following devices:\\n{tf.config.list_physical_devices()}\")\n",
    "print(f\"TensorFlow version: {tf.__version__}\")"
   ],
   "id": "1a839e52d131ec88",
   "outputs": [
    {
     "name": "stdout",
     "output_type": "stream",
     "text": [
      "TensorFlow has access to the following devices:\n",
      "[PhysicalDevice(name='/physical_device:CPU:0', device_type='CPU'), PhysicalDevice(name='/physical_device:GPU:0', device_type='GPU')]\n",
      "TensorFlow version: 2.16.2\n"
     ]
    }
   ],
   "execution_count": 1
  }
 ],
 "metadata": {
  "kernelspec": {
   "display_name": "Python 3",
   "language": "python",
   "name": "python3"
  },
  "language_info": {
   "codemirror_mode": {
    "name": "ipython",
    "version": 2
   },
   "file_extension": ".py",
   "mimetype": "text/x-python",
   "name": "python",
   "nbconvert_exporter": "python",
   "pygments_lexer": "ipython2",
   "version": "2.7.6"
  }
 },
 "nbformat": 4,
 "nbformat_minor": 5
}
