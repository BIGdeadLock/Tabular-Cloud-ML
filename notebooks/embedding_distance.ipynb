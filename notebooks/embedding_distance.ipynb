{
 "cells": [
  {
   "cell_type": "code",
   "id": "initial_id",
   "metadata": {
    "collapsed": true,
    "ExecuteTime": {
     "end_time": "2024-10-30T14:18:18.964244Z",
     "start_time": "2024-10-30T14:18:18.961650Z"
    }
   },
   "source": [
    "import pickle\n",
    "import pathlib\n",
    "import os\n",
    "from sklearn.preprocessing import MinMaxScaler, OneHotEncoder, LabelEncoder\n"
   ],
   "outputs": [],
   "execution_count": 10
  },
  {
   "metadata": {
    "ExecuteTime": {
     "end_time": "2024-10-30T14:16:36.169800Z",
     "start_time": "2024-10-30T14:16:36.165657Z"
    }
   },
   "cell_type": "code",
   "source": [
    "PROJECT_PATH = os.getcwd()\n",
    "PROJECT_PATH = os.path.join(PROJECT_PATH, \"..\")\n",
    "MODELS_DIR = pathlib.Path(PROJECT_PATH) / \"store\" / \"models\"\n",
    "\n",
    "DATASET_DIR = pathlib.Path(PROJECT_PATH) / \"data\""
   ],
   "id": "55e8f58b4a9fef6e",
   "outputs": [
    {
     "data": {
      "text/plain": [
       "PosixPath('/Users/eden.yavin/Projects/Tabular-Cloud-ML/notebooks/../data')"
      ]
     },
     "execution_count": 5,
     "metadata": {},
     "output_type": "execute_result"
    }
   ],
   "execution_count": 5
  },
  {
   "metadata": {
    "ExecuteTime": {
     "end_time": "2024-10-30T14:17:38.073813Z",
     "start_time": "2024-10-30T14:17:38.056635Z"
    }
   },
   "cell_type": "code",
   "source": [
    "import pandas as pd\n",
    "\n",
    "dataset = pd.read_csv(DATASET_DIR / \"heloc\"/ \"dataset.csv\")\n",
    "dataset"
   ],
   "id": "765a6790bf481350",
   "outputs": [
    {
     "data": {
      "text/plain": [
       "      RiskPerformance  ExternalRiskEstimate  MSinceOldestTradeOpen  \\\n",
       "0                 Bad                    55                    144   \n",
       "1                 Bad                    61                     58   \n",
       "2                 Bad                    67                     66   \n",
       "3                 Bad                    66                    169   \n",
       "4                 Bad                    81                    333   \n",
       "...               ...                   ...                    ...   \n",
       "10454            Good                    73                    131   \n",
       "10455             Bad                    65                    147   \n",
       "10456             Bad                    74                    129   \n",
       "10457             Bad                    72                    234   \n",
       "10458             Bad                    66                     28   \n",
       "\n",
       "       MSinceMostRecentTradeOpen  AverageMInFile  NumSatisfactoryTrades  \\\n",
       "0                              4              84                     20   \n",
       "1                             15              41                      2   \n",
       "2                              5              24                      9   \n",
       "3                              1              73                     28   \n",
       "4                             27             132                     12   \n",
       "...                          ...             ...                    ...   \n",
       "10454                          5              57                     21   \n",
       "10455                         39              68                     11   \n",
       "10456                          6              64                     18   \n",
       "10457                         12             113                     42   \n",
       "10458                          1              17                      4   \n",
       "\n",
       "       NumTrades60Ever2DerogPubRec  NumTrades90Ever2DerogPubRec  \\\n",
       "0                                3                            0   \n",
       "1                                4                            4   \n",
       "2                                0                            0   \n",
       "3                                1                            1   \n",
       "4                                0                            0   \n",
       "...                            ...                          ...   \n",
       "10454                            0                            0   \n",
       "10455                            0                            0   \n",
       "10456                            1                            1   \n",
       "10457                            2                            2   \n",
       "10458                            0                            0   \n",
       "\n",
       "       PercentTradesNeverDelq  MSinceMostRecentDelq  ...  \\\n",
       "0                          83                     2  ...   \n",
       "1                         100                    -7  ...   \n",
       "2                         100                    -7  ...   \n",
       "3                          93                    76  ...   \n",
       "4                         100                    -7  ...   \n",
       "...                       ...                   ...  ...   \n",
       "10454                      95                    80  ...   \n",
       "10455                      92                    28  ...   \n",
       "10456                     100                    -7  ...   \n",
       "10457                      96                    35  ...   \n",
       "10458                     100                    -7  ...   \n",
       "\n",
       "       PercentInstallTrades  MSinceMostRecentInqexcl7days  NumInqLast6M  \\\n",
       "0                        43                             0             0   \n",
       "1                        67                             0             0   \n",
       "2                        44                             0             4   \n",
       "3                        57                             0             5   \n",
       "4                        25                             0             1   \n",
       "...                     ...                           ...           ...   \n",
       "10454                    19                             7             0   \n",
       "10455                    42                             1             1   \n",
       "10456                    33                             3             4   \n",
       "10457                    20                             6             0   \n",
       "10458                    60                             3             3   \n",
       "\n",
       "       NumInqLast6Mexcl7days  NetFractionRevolvingBurden  \\\n",
       "0                          0                          33   \n",
       "1                          0                           0   \n",
       "2                          4                          53   \n",
       "3                          4                          72   \n",
       "4                          1                          51   \n",
       "...                      ...                         ...   \n",
       "10454                      0                          26   \n",
       "10455                      1                          86   \n",
       "10456                      4                           6   \n",
       "10457                      0                          19   \n",
       "10458                      2                          67   \n",
       "\n",
       "       NetFractionInstallBurden  NumRevolvingTradesWBalance  \\\n",
       "0                            -8                           8   \n",
       "1                            -8                           0   \n",
       "2                            66                           4   \n",
       "3                            83                           6   \n",
       "4                            89                           3   \n",
       "...                         ...                         ...   \n",
       "10454                        -8                           5   \n",
       "10455                        53                           2   \n",
       "10456                        -8                           5   \n",
       "10457                        -8                           4   \n",
       "10458                        -8                           2   \n",
       "\n",
       "       NumInstallTradesWBalance  NumBank2NatlTradesWHighUtilization  \\\n",
       "0                             1                                   1   \n",
       "1                            -8                                  -8   \n",
       "2                             2                                   1   \n",
       "3                             4                                   3   \n",
       "4                             1                                   0   \n",
       "...                         ...                                 ...   \n",
       "10454                         2                                   0   \n",
       "10455                         2                                   1   \n",
       "10456                        -8                                   0   \n",
       "10457                         1                                   0   \n",
       "10458                         1                                   0   \n",
       "\n",
       "       PercentTradesWBalance  \n",
       "0                         69  \n",
       "1                          0  \n",
       "2                         86  \n",
       "3                         91  \n",
       "4                         80  \n",
       "...                      ...  \n",
       "10454                    100  \n",
       "10455                     80  \n",
       "10456                     56  \n",
       "10457                     38  \n",
       "10458                    100  \n",
       "\n",
       "[10459 rows x 24 columns]"
      ],
      "text/html": [
       "<div>\n",
       "<style scoped>\n",
       "    .dataframe tbody tr th:only-of-type {\n",
       "        vertical-align: middle;\n",
       "    }\n",
       "\n",
       "    .dataframe tbody tr th {\n",
       "        vertical-align: top;\n",
       "    }\n",
       "\n",
       "    .dataframe thead th {\n",
       "        text-align: right;\n",
       "    }\n",
       "</style>\n",
       "<table border=\"1\" class=\"dataframe\">\n",
       "  <thead>\n",
       "    <tr style=\"text-align: right;\">\n",
       "      <th></th>\n",
       "      <th>RiskPerformance</th>\n",
       "      <th>ExternalRiskEstimate</th>\n",
       "      <th>MSinceOldestTradeOpen</th>\n",
       "      <th>MSinceMostRecentTradeOpen</th>\n",
       "      <th>AverageMInFile</th>\n",
       "      <th>NumSatisfactoryTrades</th>\n",
       "      <th>NumTrades60Ever2DerogPubRec</th>\n",
       "      <th>NumTrades90Ever2DerogPubRec</th>\n",
       "      <th>PercentTradesNeverDelq</th>\n",
       "      <th>MSinceMostRecentDelq</th>\n",
       "      <th>...</th>\n",
       "      <th>PercentInstallTrades</th>\n",
       "      <th>MSinceMostRecentInqexcl7days</th>\n",
       "      <th>NumInqLast6M</th>\n",
       "      <th>NumInqLast6Mexcl7days</th>\n",
       "      <th>NetFractionRevolvingBurden</th>\n",
       "      <th>NetFractionInstallBurden</th>\n",
       "      <th>NumRevolvingTradesWBalance</th>\n",
       "      <th>NumInstallTradesWBalance</th>\n",
       "      <th>NumBank2NatlTradesWHighUtilization</th>\n",
       "      <th>PercentTradesWBalance</th>\n",
       "    </tr>\n",
       "  </thead>\n",
       "  <tbody>\n",
       "    <tr>\n",
       "      <th>0</th>\n",
       "      <td>Bad</td>\n",
       "      <td>55</td>\n",
       "      <td>144</td>\n",
       "      <td>4</td>\n",
       "      <td>84</td>\n",
       "      <td>20</td>\n",
       "      <td>3</td>\n",
       "      <td>0</td>\n",
       "      <td>83</td>\n",
       "      <td>2</td>\n",
       "      <td>...</td>\n",
       "      <td>43</td>\n",
       "      <td>0</td>\n",
       "      <td>0</td>\n",
       "      <td>0</td>\n",
       "      <td>33</td>\n",
       "      <td>-8</td>\n",
       "      <td>8</td>\n",
       "      <td>1</td>\n",
       "      <td>1</td>\n",
       "      <td>69</td>\n",
       "    </tr>\n",
       "    <tr>\n",
       "      <th>1</th>\n",
       "      <td>Bad</td>\n",
       "      <td>61</td>\n",
       "      <td>58</td>\n",
       "      <td>15</td>\n",
       "      <td>41</td>\n",
       "      <td>2</td>\n",
       "      <td>4</td>\n",
       "      <td>4</td>\n",
       "      <td>100</td>\n",
       "      <td>-7</td>\n",
       "      <td>...</td>\n",
       "      <td>67</td>\n",
       "      <td>0</td>\n",
       "      <td>0</td>\n",
       "      <td>0</td>\n",
       "      <td>0</td>\n",
       "      <td>-8</td>\n",
       "      <td>0</td>\n",
       "      <td>-8</td>\n",
       "      <td>-8</td>\n",
       "      <td>0</td>\n",
       "    </tr>\n",
       "    <tr>\n",
       "      <th>2</th>\n",
       "      <td>Bad</td>\n",
       "      <td>67</td>\n",
       "      <td>66</td>\n",
       "      <td>5</td>\n",
       "      <td>24</td>\n",
       "      <td>9</td>\n",
       "      <td>0</td>\n",
       "      <td>0</td>\n",
       "      <td>100</td>\n",
       "      <td>-7</td>\n",
       "      <td>...</td>\n",
       "      <td>44</td>\n",
       "      <td>0</td>\n",
       "      <td>4</td>\n",
       "      <td>4</td>\n",
       "      <td>53</td>\n",
       "      <td>66</td>\n",
       "      <td>4</td>\n",
       "      <td>2</td>\n",
       "      <td>1</td>\n",
       "      <td>86</td>\n",
       "    </tr>\n",
       "    <tr>\n",
       "      <th>3</th>\n",
       "      <td>Bad</td>\n",
       "      <td>66</td>\n",
       "      <td>169</td>\n",
       "      <td>1</td>\n",
       "      <td>73</td>\n",
       "      <td>28</td>\n",
       "      <td>1</td>\n",
       "      <td>1</td>\n",
       "      <td>93</td>\n",
       "      <td>76</td>\n",
       "      <td>...</td>\n",
       "      <td>57</td>\n",
       "      <td>0</td>\n",
       "      <td>5</td>\n",
       "      <td>4</td>\n",
       "      <td>72</td>\n",
       "      <td>83</td>\n",
       "      <td>6</td>\n",
       "      <td>4</td>\n",
       "      <td>3</td>\n",
       "      <td>91</td>\n",
       "    </tr>\n",
       "    <tr>\n",
       "      <th>4</th>\n",
       "      <td>Bad</td>\n",
       "      <td>81</td>\n",
       "      <td>333</td>\n",
       "      <td>27</td>\n",
       "      <td>132</td>\n",
       "      <td>12</td>\n",
       "      <td>0</td>\n",
       "      <td>0</td>\n",
       "      <td>100</td>\n",
       "      <td>-7</td>\n",
       "      <td>...</td>\n",
       "      <td>25</td>\n",
       "      <td>0</td>\n",
       "      <td>1</td>\n",
       "      <td>1</td>\n",
       "      <td>51</td>\n",
       "      <td>89</td>\n",
       "      <td>3</td>\n",
       "      <td>1</td>\n",
       "      <td>0</td>\n",
       "      <td>80</td>\n",
       "    </tr>\n",
       "    <tr>\n",
       "      <th>...</th>\n",
       "      <td>...</td>\n",
       "      <td>...</td>\n",
       "      <td>...</td>\n",
       "      <td>...</td>\n",
       "      <td>...</td>\n",
       "      <td>...</td>\n",
       "      <td>...</td>\n",
       "      <td>...</td>\n",
       "      <td>...</td>\n",
       "      <td>...</td>\n",
       "      <td>...</td>\n",
       "      <td>...</td>\n",
       "      <td>...</td>\n",
       "      <td>...</td>\n",
       "      <td>...</td>\n",
       "      <td>...</td>\n",
       "      <td>...</td>\n",
       "      <td>...</td>\n",
       "      <td>...</td>\n",
       "      <td>...</td>\n",
       "      <td>...</td>\n",
       "    </tr>\n",
       "    <tr>\n",
       "      <th>10454</th>\n",
       "      <td>Good</td>\n",
       "      <td>73</td>\n",
       "      <td>131</td>\n",
       "      <td>5</td>\n",
       "      <td>57</td>\n",
       "      <td>21</td>\n",
       "      <td>0</td>\n",
       "      <td>0</td>\n",
       "      <td>95</td>\n",
       "      <td>80</td>\n",
       "      <td>...</td>\n",
       "      <td>19</td>\n",
       "      <td>7</td>\n",
       "      <td>0</td>\n",
       "      <td>0</td>\n",
       "      <td>26</td>\n",
       "      <td>-8</td>\n",
       "      <td>5</td>\n",
       "      <td>2</td>\n",
       "      <td>0</td>\n",
       "      <td>100</td>\n",
       "    </tr>\n",
       "    <tr>\n",
       "      <th>10455</th>\n",
       "      <td>Bad</td>\n",
       "      <td>65</td>\n",
       "      <td>147</td>\n",
       "      <td>39</td>\n",
       "      <td>68</td>\n",
       "      <td>11</td>\n",
       "      <td>0</td>\n",
       "      <td>0</td>\n",
       "      <td>92</td>\n",
       "      <td>28</td>\n",
       "      <td>...</td>\n",
       "      <td>42</td>\n",
       "      <td>1</td>\n",
       "      <td>1</td>\n",
       "      <td>1</td>\n",
       "      <td>86</td>\n",
       "      <td>53</td>\n",
       "      <td>2</td>\n",
       "      <td>2</td>\n",
       "      <td>1</td>\n",
       "      <td>80</td>\n",
       "    </tr>\n",
       "    <tr>\n",
       "      <th>10456</th>\n",
       "      <td>Bad</td>\n",
       "      <td>74</td>\n",
       "      <td>129</td>\n",
       "      <td>6</td>\n",
       "      <td>64</td>\n",
       "      <td>18</td>\n",
       "      <td>1</td>\n",
       "      <td>1</td>\n",
       "      <td>100</td>\n",
       "      <td>-7</td>\n",
       "      <td>...</td>\n",
       "      <td>33</td>\n",
       "      <td>3</td>\n",
       "      <td>4</td>\n",
       "      <td>4</td>\n",
       "      <td>6</td>\n",
       "      <td>-8</td>\n",
       "      <td>5</td>\n",
       "      <td>-8</td>\n",
       "      <td>0</td>\n",
       "      <td>56</td>\n",
       "    </tr>\n",
       "    <tr>\n",
       "      <th>10457</th>\n",
       "      <td>Bad</td>\n",
       "      <td>72</td>\n",
       "      <td>234</td>\n",
       "      <td>12</td>\n",
       "      <td>113</td>\n",
       "      <td>42</td>\n",
       "      <td>2</td>\n",
       "      <td>2</td>\n",
       "      <td>96</td>\n",
       "      <td>35</td>\n",
       "      <td>...</td>\n",
       "      <td>20</td>\n",
       "      <td>6</td>\n",
       "      <td>0</td>\n",
       "      <td>0</td>\n",
       "      <td>19</td>\n",
       "      <td>-8</td>\n",
       "      <td>4</td>\n",
       "      <td>1</td>\n",
       "      <td>0</td>\n",
       "      <td>38</td>\n",
       "    </tr>\n",
       "    <tr>\n",
       "      <th>10458</th>\n",
       "      <td>Bad</td>\n",
       "      <td>66</td>\n",
       "      <td>28</td>\n",
       "      <td>1</td>\n",
       "      <td>17</td>\n",
       "      <td>4</td>\n",
       "      <td>0</td>\n",
       "      <td>0</td>\n",
       "      <td>100</td>\n",
       "      <td>-7</td>\n",
       "      <td>...</td>\n",
       "      <td>60</td>\n",
       "      <td>3</td>\n",
       "      <td>3</td>\n",
       "      <td>2</td>\n",
       "      <td>67</td>\n",
       "      <td>-8</td>\n",
       "      <td>2</td>\n",
       "      <td>1</td>\n",
       "      <td>0</td>\n",
       "      <td>100</td>\n",
       "    </tr>\n",
       "  </tbody>\n",
       "</table>\n",
       "<p>10459 rows × 24 columns</p>\n",
       "</div>"
      ]
     },
     "execution_count": 8,
     "metadata": {},
     "output_type": "execute_result"
    }
   ],
   "execution_count": 8
  },
  {
   "metadata": {
    "ExecuteTime": {
     "end_time": "2024-10-30T14:17:44.091895Z",
     "start_time": "2024-10-30T14:17:44.084079Z"
    }
   },
   "cell_type": "code",
   "source": [
    "X, y = dataset.iloc[:, 1:], dataset.iloc[:, 0]\n",
    "\n",
    "# Remove the bug in the dataset where the entire row has -9 values\n",
    "mask = ~(X == -9).all(axis=1)\n",
    "X = X[mask]\n",
    "y = y[mask]\n",
    "\n",
    "y = y.replace({\"Bad\": 0, \"Good\": 1}).astype(int)"
   ],
   "id": "92bfb4d9fcc4703b",
   "outputs": [
    {
     "name": "stderr",
     "output_type": "stream",
     "text": [
      "/var/folders/r9/9n0wpy917zg1611cmsmqg0kr0000gn/T/ipykernel_18314/1116483927.py:8: FutureWarning: Downcasting behavior in `replace` is deprecated and will be removed in a future version. To retain the old behavior, explicitly call `result.infer_objects(copy=False)`. To opt-in to the future behavior, set `pd.set_option('future.no_silent_downcasting', True)`\n",
      "  y = y.replace({\"Bad\": 0, \"Good\": 1}).astype(int)\n"
     ]
    }
   ],
   "execution_count": 9
  },
  {
   "metadata": {
    "ExecuteTime": {
     "end_time": "2024-11-01T10:13:27.584637Z",
     "start_time": "2024-11-01T10:13:27.578303Z"
    }
   },
   "cell_type": "code",
   "source": [
    "def preprocess(X: pd.DataFrame, cloud_dataset=False):\n",
    "    \"\"\"\n",
    "    The function will preprocess the data:\n",
    "    1. Categorical features will be label encoded (Boy->1, Girl ->2)\n",
    "    2. Numerical features will be scaled if the data is intended to be used for baseline. For cloud data set, no scaling will be preformed.\n",
    "\n",
    "    Return pd.Dataframe\n",
    "    \"\"\"\n",
    "    # Identify categorical and numeric columns\n",
    "    categorical_cols = X.select_dtypes(include=['object', 'category']).columns.tolist()\n",
    "    numeric_cols = X.select_dtypes(include=['number']).columns.tolist()\n",
    "\n",
    "    # Initialize lists to store processed columns\n",
    "    processed_columns = []\n",
    "\n",
    "    # If there are categorical columns, apply one-hot encoding\n",
    "    if categorical_cols:\n",
    "        print(\"\\nEncoding categorical columns...\")\n",
    "        # onehot_encoder = OneHotEncoder(categories='auto', sparse=False)\n",
    "        # X_categorical = pd.DataFrame(onehot_encoder.fit_transform(X[categorical_cols]),\n",
    "        #                              columns=onehot_encoder.get_feature_names_out(categorical_cols))\n",
    "        label_encoder = LabelEncoder()\n",
    "        X_categorical = pd.DataFrame()\n",
    "        for col in categorical_cols:\n",
    "            X_categorical[col] = label_encoder.fit_transform(X[col])\n",
    "\n",
    "        processed_columns.append(X_categorical)\n",
    "\n",
    "    # Apply standard scaling to the numeric columns\n",
    "    if numeric_cols:\n",
    "        print(\"\\nScaling numerical columns...\")\n",
    "        scaler = MinMaxScaler()\n",
    "        X_numeric = X[numeric_cols]\n",
    "        # if cloud_dataset:\n",
    "        #     X_numeric = pd.DataFrame(scaler.fit_transform(X[numeric_cols]), columns=numeric_cols, index=X.index)\n",
    "        # else:\n",
    "        # X_numeric = pd.DataFrame(scaler.fit_transform(X[numeric_cols]), columns=numeric_cols, index=X.index)\n",
    "\n",
    "        processed_columns.append(X_numeric)\n",
    "\n",
    "    # Combine the processed columns\n",
    "    if processed_columns:\n",
    "        X_processed = pd.concat(processed_columns, axis=1)\n",
    "    else:\n",
    "        X_processed = X.copy()  # If there are no categorical or numeric columns, keep the original dataframe\n",
    "\n",
    "\n",
    "    return X_processed\n",
    "\n",
    "\n",
    "X = preprocess(X, cloud_dataset=True)"
   ],
   "id": "7c34ccb55ad6dd39",
   "outputs": [
    {
     "name": "stdout",
     "output_type": "stream",
     "text": [
      "\n",
      "Scaling numerical columns...\n"
     ]
    }
   ],
   "execution_count": 138
  },
  {
   "metadata": {
    "ExecuteTime": {
     "end_time": "2024-11-01T10:13:31.416544Z",
     "start_time": "2024-11-01T10:13:27.749435Z"
    }
   },
   "cell_type": "code",
   "source": [
    "import pandas as pd\n",
    "\n",
    "from keras.src import Sequential\n",
    "from keras.src.callbacks import EarlyStopping\n",
    "from keras.src.layers import Dropout, Dense, BatchNormalization\n",
    "import torch.nn as nn\n",
    "\n",
    "from keras.src.utils import to_categorical\n",
    "\n",
    "\n",
    "class DNNEmbedding(nn.Module):\n",
    "\n",
    "    name = \"dnn_embedding\"\n",
    "\n",
    "    def __init__(self, **kwargs):\n",
    "        super(DNNEmbedding, self).__init__()\n",
    "\n",
    "        X, y = kwargs.get(\"X\"), kwargs.get(\"y\")\n",
    "        num_classes = len(set(y))\n",
    "        y = to_categorical(y, num_classes=num_classes)\n",
    "\n",
    "        model = Sequential()\n",
    "        model.add(Dense(units=X.shape[1]//2, activation='tanh', name=\"embedding\"))\n",
    "        model.add(BatchNormalization())\n",
    "        model.add(Dropout(0.4))\n",
    "        model.add(Dense(units=num_classes, activation='softmax', name=\"output\"))\n",
    "\n",
    "        model.compile(loss='categorical_crossentropy', optimizer='adam', metrics=['accuracy'])\n",
    "        early_stop = EarlyStopping(patience=2, monitor=\"loss\")\n",
    "\n",
    "        model.fit(X, y, epochs=50, batch_size=8, callbacks=[early_stop])\n",
    "        self.model = model.layers[0]\n",
    "        self.output_shape = (1, X.shape[1]//2)\n",
    "\n",
    "\n",
    "    def forward(self, x):\n",
    "\n",
    "        if type(x) is pd.DataFrame:\n",
    "            x = x.to_numpy()\n",
    "\n",
    "        embedding = self.model(x)\n",
    "        return embedding\n",
    "\n",
    "\n",
    "embedding = DNNEmbedding(X=X, y=y)\n",
    "\n"
   ],
   "id": "9d3858b2e47bb1b6",
   "outputs": [
    {
     "name": "stdout",
     "output_type": "stream",
     "text": [
      "Epoch 1/50\n",
      "\u001B[1m1234/1234\u001B[0m \u001B[32m━━━━━━━━━━━━━━━━━━━━\u001B[0m\u001B[37m\u001B[0m \u001B[1m1s\u001B[0m 251us/step - accuracy: 0.5996 - loss: 0.8620\n",
      "Epoch 2/50\n",
      "\u001B[1m1234/1234\u001B[0m \u001B[32m━━━━━━━━━━━━━━━━━━━━\u001B[0m\u001B[37m\u001B[0m \u001B[1m0s\u001B[0m 244us/step - accuracy: 0.6652 - loss: 0.6155\n",
      "Epoch 3/50\n",
      "\u001B[1m1234/1234\u001B[0m \u001B[32m━━━━━━━━━━━━━━━━━━━━\u001B[0m\u001B[37m\u001B[0m \u001B[1m0s\u001B[0m 240us/step - accuracy: 0.6960 - loss: 0.5929\n",
      "Epoch 4/50\n",
      "\u001B[1m1234/1234\u001B[0m \u001B[32m━━━━━━━━━━━━━━━━━━━━\u001B[0m\u001B[37m\u001B[0m \u001B[1m0s\u001B[0m 238us/step - accuracy: 0.7080 - loss: 0.5854\n",
      "Epoch 5/50\n",
      "\u001B[1m1234/1234\u001B[0m \u001B[32m━━━━━━━━━━━━━━━━━━━━\u001B[0m\u001B[37m\u001B[0m \u001B[1m0s\u001B[0m 237us/step - accuracy: 0.7012 - loss: 0.5876\n",
      "Epoch 6/50\n",
      "\u001B[1m1234/1234\u001B[0m \u001B[32m━━━━━━━━━━━━━━━━━━━━\u001B[0m\u001B[37m\u001B[0m \u001B[1m0s\u001B[0m 238us/step - accuracy: 0.7154 - loss: 0.5783\n",
      "Epoch 7/50\n",
      "\u001B[1m1234/1234\u001B[0m \u001B[32m━━━━━━━━━━━━━━━━━━━━\u001B[0m\u001B[37m\u001B[0m \u001B[1m0s\u001B[0m 234us/step - accuracy: 0.7042 - loss: 0.5891\n",
      "Epoch 8/50\n",
      "\u001B[1m1234/1234\u001B[0m \u001B[32m━━━━━━━━━━━━━━━━━━━━\u001B[0m\u001B[37m\u001B[0m \u001B[1m0s\u001B[0m 239us/step - accuracy: 0.7095 - loss: 0.5786\n",
      "Epoch 9/50\n",
      "\u001B[1m1234/1234\u001B[0m \u001B[32m━━━━━━━━━━━━━━━━━━━━\u001B[0m\u001B[37m\u001B[0m \u001B[1m0s\u001B[0m 246us/step - accuracy: 0.7125 - loss: 0.5762\n",
      "Epoch 10/50\n",
      "\u001B[1m1234/1234\u001B[0m \u001B[32m━━━━━━━━━━━━━━━━━━━━\u001B[0m\u001B[37m\u001B[0m \u001B[1m0s\u001B[0m 239us/step - accuracy: 0.7135 - loss: 0.5788\n",
      "Epoch 11/50\n",
      "\u001B[1m1234/1234\u001B[0m \u001B[32m━━━━━━━━━━━━━━━━━━━━\u001B[0m\u001B[37m\u001B[0m \u001B[1m0s\u001B[0m 242us/step - accuracy: 0.7127 - loss: 0.5746\n"
     ]
    }
   ],
   "execution_count": 139
  },
  {
   "metadata": {
    "ExecuteTime": {
     "end_time": "2024-11-01T10:13:31.426261Z",
     "start_time": "2024-11-01T10:13:31.423489Z"
    }
   },
   "cell_type": "code",
   "source": [
    "X_sample, y_sample = X.iloc[:100], y.iloc[:100]\n",
    "y_sample.value_counts()"
   ],
   "id": "1f99c748877695ac",
   "outputs": [
    {
     "data": {
      "text/plain": [
       "RiskPerformance\n",
       "0    71\n",
       "1    29\n",
       "Name: count, dtype: int64"
      ]
     },
     "execution_count": 140,
     "metadata": {},
     "output_type": "execute_result"
    }
   ],
   "execution_count": 140
  },
  {
   "metadata": {
    "ExecuteTime": {
     "end_time": "2024-11-01T10:13:31.458608Z",
     "start_time": "2024-11-01T10:13:31.455821Z"
    }
   },
   "cell_type": "code",
   "source": [
    "X_embed = embedding(X_sample)\n",
    "X_embed.shape"
   ],
   "id": "6996b5b3190e6519",
   "outputs": [
    {
     "data": {
      "text/plain": [
       "TensorShape([100, 11])"
      ]
     },
     "execution_count": 141,
     "metadata": {},
     "output_type": "execute_result"
    }
   ],
   "execution_count": 141
  },
  {
   "metadata": {
    "ExecuteTime": {
     "end_time": "2024-11-01T10:13:31.479144Z",
     "start_time": "2024-11-01T10:13:31.476907Z"
    }
   },
   "cell_type": "code",
   "source": [
    "from sklearn.decomposition import PCA\n",
    "import numpy as np\n",
    "np.random.seed(42)\n",
    "\n",
    "pca = PCA(n_components=2)\n",
    "\n",
    "\n",
    "X_reduced = pca.fit_transform(X_embed)\n"
   ],
   "id": "34cd56488b415d98",
   "outputs": [],
   "execution_count": 142
  },
  {
   "metadata": {
    "ExecuteTime": {
     "end_time": "2024-11-01T10:13:31.575571Z",
     "start_time": "2024-11-01T10:13:31.494861Z"
    }
   },
   "cell_type": "code",
   "source": [
    "import matplotlib.pyplot as plt\n",
    "# Create a scatter plot\n",
    "plt.figure(figsize=(10, 8))\n",
    "scatter = plt.scatter(X_reduced[:, 0], X_reduced[:, 1], c=y_sample, cmap='viridis', alpha=0.7)\n",
    "\n",
    "# Add a legend\n",
    "legend1 = plt.legend(*scatter.legend_elements(), title=\"Classes\")\n",
    "\n",
    "# Add titles and labels\n",
    "plt.title('2D PCA of Embedding')\n",
    "plt.xlabel('Principal Component 1')\n",
    "plt.ylabel('Principal Component 2')\n",
    "\n",
    "# Show the plot\n",
    "plt.show()"
   ],
   "id": "b13e9560f67f4bbb",
   "outputs": [
    {
     "data": {
      "text/plain": [
       "<Figure size 1000x800 with 1 Axes>"
      ],
      "image/png": "[encoded data removed]"
     },
     "metadata": {},
     "output_type": "display_data"
    }
   ],
   "execution_count": 143
  },
  {
   "metadata": {},
   "cell_type": "code",
   "outputs": [],
   "execution_count": null,
   "source": [
    "import numpy as np\n",
    "from keras.src.layers import Input, Dense,  Flatten\n",
    "from keras.src.layers import BatchNormalization, Activation, Conv2DTranspose\n",
    "from keras.src.models import Model, Sequential\n",
    "from keras.src.layers import LeakyReLU, Reshape, Conv2D, UpSampling2D, ReLU\n",
    "\n",
    "class BaseEncryptor:\n",
    "\n",
    "    name: str\n",
    "\n",
    "    def __init__(self, input_shape=None, output_shape=None):\n",
    "        self.model = None\n",
    "        self.output_shape = output_shape\n",
    "        self.input_shape = input_shape\n",
    "\n",
    "    def build_generator(self, input_shape, output_shape):\n",
    "        raise NotImplementedError(\"Subclasses should implement this method\")\n",
    "\n",
    "    def encode(self, inputs) -> np.array:\n",
    "        inputs = np.expand_dims(inputs, axis=0)\n",
    "        if self.model is None:\n",
    "            input_shape = inputs.shape[1:]\n",
    "            output_shape = self.output_shape or (1, inputs.shape[2])\n",
    "            self.model = self.build_generator(input_shape, output_shape)\n",
    "        return self.model(inputs).numpy()\n",
    "\n",
    "class DCEncryptor(BaseEncryptor):\n",
    "\n",
    "    name = \"dc\"\n",
    "\n",
    "    def build_generator(self, input_shape, output_shape):\n",
    "\n",
    "        input_layer = Input(shape=input_shape)\n",
    "        x = Flatten()(input_layer)\n",
    "\n",
    "        x = Dense(7*7*256, use_bias=False)(x)\n",
    "        x = BatchNormalization()(x)\n",
    "        x = LeakyReLU()(x)\n",
    "\n",
    "        x = Reshape((7, 7, 256))(x)\n",
    "        x = Conv2DTranspose(128, (5, 5), strides=(2, 2), padding='same', use_bias=False)(x)\n",
    "        x = BatchNormalization()(x)\n",
    "        x = ReLU()(x)\n",
    "\n",
    "        x = Conv2DTranspose(64, (5, 5), strides=(2, 2), padding='same', use_bias=False)(x)\n",
    "        x = BatchNormalization()(x)\n",
    "\n",
    "        x = Conv2DTranspose(32, (5, 5), strides=(2, 2), padding='same', use_bias=False)(x)\n",
    "        x = BatchNormalization()(x)\n",
    "        x = ReLU()(x)\n",
    "\n",
    "        x = Conv2DTranspose(16, (5, 5), strides=(2, 2), padding='same', use_bias=False)(x)\n",
    "        x = BatchNormalization()(x)\n",
    "        x = ReLU()(x)\n",
    "\n",
    "        output_image = Conv2DTranspose(3, (5, 5), strides=(2, 2), padding='same', use_bias=False, activation='sigmoid')(x)\n",
    "\n",
    "        return Model(inputs=input_layer, outputs=output_image)\n",
    "    \n",
    "    \n",
    "encoder = DCEncryptor(output_shape=(1, 224, 224, 3))"
   ],
   "id": "ce9d9aba54978731"
  },
  {
   "metadata": {
    "ExecuteTime": {
     "end_time": "2024-11-01T10:28:14.160852Z",
     "start_time": "2024-11-01T10:28:13.386099Z"
    }
   },
   "cell_type": "code",
   "outputs": [],
   "source": [
    "X_encrypted = []\n",
    "\n",
    "for i, x in X_sample.iterrows():\n",
    "    \n",
    "    x_embed = embedding(x.values.reshape(1,-1))\n",
    "    encrypted = encoder.encode(np.vstack(x_embed))\n",
    "    encrypted = (encrypted * 10000).astype(np.uint8)\n",
    "\n",
    "    X_encrypted.append(encrypted)"
   ],
   "id": "3f3d24e407b8ebc",
   "execution_count": null
  },
  {
   "metadata": {
    "ExecuteTime": {
     "end_time": "2024-11-01T10:14:31.731664Z",
     "start_time": "2024-11-01T10:14:30.039755Z"
    }
   },
   "cell_type": "code",
   "source": [
    "from scipy.spatial import distance\n",
    "\n",
    "\n",
    "distance_between_1 = []\n",
    "distance_between_0 = []\n",
    "distance_between_diff_label = []\n",
    "\n",
    "i = 0\n",
    "for u, y1 in zip(X_encrypted, y_sample):\n",
    "    j = 0\n",
    "    for v, y2 in zip(X_encrypted, y_sample):\n",
    "        euc_dis = distance.euclidean(u.flatten(), v.flatten())\n",
    "        if y1 == 1 and y2 == 1 and i != j:\n",
    "            distance_between_1.append(euc_dis)\n",
    "        elif y1 == 0 and y2 == 0 and i != j:\n",
    "            distance_between_0.append(euc_dis)\n",
    "        elif y1 != y2 and i != j:\n",
    "            distance_between_diff_label.append(euc_dis)\n",
    "        j += 1\n",
    "        \n",
    "    i += 1\n",
    "            \n",
    "        "
   ],
   "id": "1284102f70324cf0",
   "outputs": [],
   "execution_count": 150
  },
  {
   "metadata": {
    "ExecuteTime": {
     "end_time": "2024-11-01T10:14:38.701991Z",
     "start_time": "2024-11-01T10:14:38.698244Z"
    }
   },
   "cell_type": "code",
   "source": "np.mean(distance_between_1)",
   "id": "6c690c24cf0a4856",
   "outputs": [
    {
     "data": {
      "text/plain": [
       "27766.191507923293"
      ]
     },
     "execution_count": 151,
     "metadata": {},
     "output_type": "execute_result"
    }
   ],
   "execution_count": 151
  },
  {
   "metadata": {
    "ExecuteTime": {
     "end_time": "2024-11-01T10:14:39.875477Z",
     "start_time": "2024-11-01T10:14:39.872045Z"
    }
   },
   "cell_type": "code",
   "source": "np.mean(distance_between_0)\n",
   "id": "c80a59a195df7294",
   "outputs": [
    {
     "data": {
      "text/plain": [
       "28159.905748000063"
      ]
     },
     "execution_count": 152,
     "metadata": {},
     "output_type": "execute_result"
    }
   ],
   "execution_count": 152
  },
  {
   "metadata": {
    "ExecuteTime": {
     "end_time": "2024-11-01T10:14:47.999839Z",
     "start_time": "2024-11-01T10:14:47.995476Z"
    }
   },
   "cell_type": "code",
   "source": "np.mean(distance_between_diff_label)",
   "id": "8a524b6025f92865",
   "outputs": [
    {
     "data": {
      "text/plain": [
       "30197.96594969774"
      ]
     },
     "execution_count": 155,
     "metadata": {},
     "output_type": "execute_result"
    }
   ],
   "execution_count": 155
  },
  {
   "metadata": {},
   "cell_type": "code",
   "outputs": [],
   "execution_count": null,
   "source": "",
   "id": "fd6b37045564161d"
  }
 ],
 "metadata": {
  "kernelspec": {
   "display_name": "Python 3",
   "language": "python",
   "name": "python3"
  },
  "language_info": {
   "codemirror_mode": {
    "name": "ipython",
    "version": 2
   },
   "file_extension": ".py",
   "mimetype": "text/x-python",
   "name": "python",
   "nbconvert_exporter": "python",
   "pygments_lexer": "ipython2",
   "version": "2.7.6"
  }
 },
 "nbformat": 4,
 "nbformat_minor": 5
}
