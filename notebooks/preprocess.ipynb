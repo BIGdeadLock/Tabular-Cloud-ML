{
 "cells": [
  {
   "cell_type": "code",
   "id": "initial_id",
   "metadata": {
    "collapsed": true,
    "ExecuteTime": {
     "end_time": "2024-07-23T07:25:08.075687Z",
     "start_time": "2024-07-23T07:25:08.068394Z"
    }
   },
   "source": [
    "import numpy as np\n",
    "import pandas as pd\n",
    "from lazypredict.Supervised import LazyClassifier\n",
    "import pickle\n",
    "from sklearn.model_selection import train_test_split\n",
    "import pathlib\n",
    "import os\n",
    "from sklearn.preprocessing import StandardScaler, OneHotEncoder\n"
   ],
   "outputs": [],
   "execution_count": 3
  },
  {
   "metadata": {
    "ExecuteTime": {
     "end_time": "2024-07-23T07:25:08.649077Z",
     "start_time": "2024-07-23T07:25:08.637695Z"
    }
   },
   "cell_type": "code",
   "source": [
    "PROJECT_PATH = os.getcwd()\n",
    "PROJECT_PATH = os.path.join(PROJECT_PATH, \"..\")\n",
    "MODELS_DIR = pathlib.Path(PROJECT_PATH) / \"store\" / \"models\"\n",
    "\n",
    "DATASET_DIR = pathlib.Path(PROJECT_PATH) / \"data\""
   ],
   "id": "1b77eb77541608fc",
   "outputs": [],
   "execution_count": 4
  },
  {
   "metadata": {
    "ExecuteTime": {
     "end_time": "2024-07-23T07:31:15.446706Z",
     "start_time": "2024-07-23T07:31:15.434587Z"
    }
   },
   "cell_type": "code",
   "source": [
    "SAMPLE_SIZE = 0.2\n",
    "\n",
    "def preprocess(X: pd.DataFrame, y: pd.Series):\n",
    "    \n",
    "    onehot_encoder = OneHotEncoder(categories='auto', sparse=False)\n",
    "    X = onehot_encoder.fit_transform(X)\n",
    "    \n",
    "    X_train, X_test, y_train, y_test = train_test_split(X, y, test_size=0.1, random_state=42)   \n",
    "    \n",
    "    X_train = StandardScaler().fit_transform(X_train)\n",
    "    X_test = StandardScaler().fit_transform(X_test)\n",
    "    \n",
    "    _, X_sample, _, y_sample = train_test_split(X_train, y_train, test_size=SAMPLE_SIZE, random_state=42)\n",
    "    \n",
    "    print(\"X_train shape:\", X_train.shape)\n",
    "    print(\"X_test shape:\", X_test.shape)\n",
    "    print(\"y_train shape:\", y_train.shape)\n",
    "    print(\"y_test shape:\", y_test.shape)\n",
    "    print(\"X_sample shape:\", X_sample.shape)\n",
    "    print(\"y_sample shape:\", y_sample.shape)\n",
    "    \n",
    "    with open(DATASET_DIR / f'dataset_{SAMPLE_SIZE}.pkl', 'wb') as f:\n",
    "        pickle.dump([X_sample, y_sample, X_test, y_test],f)\n",
    "        \n",
    "    return X_train, y_train, X_test, y_test"
   ],
   "id": "7cc005dedaaaa74b",
   "outputs": [],
   "execution_count": 10
  },
  {
   "metadata": {},
   "cell_type": "code",
   "outputs": [],
   "execution_count": null,
   "source": [
    "def train_and_save_models(X_train: pd.DataFrame, y_train, X_test, y_test, models: list):\n",
    "    clf = LazyClassifier(verbose=0,ignore_warnings=True, custom_metric=None)\n",
    "    models,predictions = clf.fit(X_train, y_train)\n",
    "    \n",
    "    models_to_save = \"RandomForestClassifier-BernoulliNB-CalibratedClassifierCV-LinearDiscriminantAnalysis-LogisticRegression-AdaBoostClassifier-ExtraTreesClassifier-XGBClassifier-LGBMClassifier\"\n",
    "    models_to_save = models_to_save.split('-')\n",
    "    \n",
    "    \n",
    "    "
   ],
   "id": "1148ae6163ee56a0"
  },
  {
   "metadata": {},
   "cell_type": "markdown",
   "source": "# Adult",
   "id": "8b39701de8b84218"
  },
  {
   "metadata": {
    "ExecuteTime": {
     "end_time": "2024-07-23T07:25:18.298434Z",
     "start_time": "2024-07-23T07:25:18.294236Z"
    }
   },
   "cell_type": "code",
   "source": [
    "DATASET_NAME = \"adult\"\n",
    "\n",
    "DATASET_PATH = DATASET_DIR / DATASET_NAME\n",
    "DATASET_PATH.mkdir(parents=True, exist_ok=True)"
   ],
   "id": "637552a89f0e51e4",
   "outputs": [],
   "execution_count": 6
  },
  {
   "metadata": {
    "ExecuteTime": {
     "end_time": "2024-07-23T07:29:53.160562Z",
     "start_time": "2024-07-23T07:25:18.814986Z"
    }
   },
   "cell_type": "code",
   "source": [
    "from ucimlrepo import fetch_ucirepo \n",
    "  \n",
    "# fetch dataset \n",
    "adult = fetch_ucirepo(id=2) \n",
    "  \n",
    "# data (as pandas dataframes) \n",
    "X = pd.DataFrame(adult.data.features) \n",
    "y = pd.DataFrame(adult.data.targets)\n",
    "  "
   ],
   "id": "271d383a8d5d9716",
   "outputs": [],
   "execution_count": 7
  },
  {
   "metadata": {
    "ExecuteTime": {
     "end_time": "2024-07-23T07:29:53.189889Z",
     "start_time": "2024-07-23T07:29:53.162605Z"
    }
   },
   "cell_type": "code",
   "source": [
    "\n",
    "y['income'] = y['income'].replace({'<=50K': 0, '>50K': 1, \"<=50K.\": 0, \">50K.\": 1})\n",
    "y.value_counts()"
   ],
   "id": "e25bd503a9bd3b74",
   "outputs": [
    {
     "data": {
      "text/plain": [
       "income\n",
       "0         37155\n",
       "1         11687\n",
       "Name: count, dtype: int64"
      ]
     },
     "execution_count": 8,
     "metadata": {},
     "output_type": "execute_result"
    }
   ],
   "execution_count": 8
  },
  {
   "metadata": {
    "jupyter": {
     "is_executing": true
    },
    "ExecuteTime": {
     "start_time": "2024-07-23T07:31:26.356440Z"
    }
   },
   "cell_type": "code",
   "source": "X_train, y_train, X_test, y_test = preprocess(X, y)",
   "id": "611f0231ecc1b75c",
   "outputs": [],
   "execution_count": null
  },
  {
   "metadata": {
    "ExecuteTime": {
     "end_time": "2024-07-23T07:19:44.752300Z",
     "start_time": "2024-07-23T07:19:44.716993Z"
    }
   },
   "cell_type": "code",
   "source": [
    "X_train, X_test, y_train, y_test = train_test_split(OneHotEncoder(categories='auto', sparse=False).fit_transform(X.sample(100)), y.sample(100), test_size=0.1, random_state=42)   \n",
    "type(y_train)"
   ],
   "id": "34df1842916c263f",
   "outputs": [
    {
     "data": {
      "text/plain": [
       "pandas.core.frame.DataFrame"
      ]
     },
     "execution_count": 19,
     "metadata": {},
     "output_type": "execute_result"
    }
   ],
   "execution_count": 19
  },
  {
   "metadata": {
    "ExecuteTime": {
     "end_time": "2024-07-23T07:20:23.667880Z",
     "start_time": "2024-07-23T07:20:23.642489Z"
    }
   },
   "cell_type": "code",
   "source": "pd.DataFrame(X_train).values",
   "id": "aadc857aa74d5494",
   "outputs": [
    {
     "data": {
      "text/plain": [
       "array([[0., 0., 0., ..., 1., 0., 0.],\n",
       "       [0., 0., 0., ..., 1., 0., 0.],\n",
       "       [0., 0., 0., ..., 0., 1., 0.],\n",
       "       ...,\n",
       "       [0., 0., 0., ..., 1., 0., 0.],\n",
       "       [0., 0., 0., ..., 1., 0., 0.],\n",
       "       [0., 0., 0., ..., 1., 0., 0.]])"
      ]
     },
     "execution_count": 24,
     "metadata": {},
     "output_type": "execute_result"
    }
   ],
   "execution_count": 24
  }
 ],
 "metadata": {
  "kernelspec": {
   "display_name": "Python 3",
   "language": "python",
   "name": "python3"
  },
  "language_info": {
   "codemirror_mode": {
    "name": "ipython",
    "version": 2
   },
   "file_extension": ".py",
   "mimetype": "text/x-python",
   "name": "python",
   "nbconvert_exporter": "python",
   "pygments_lexer": "ipython2",
   "version": "2.7.6"
  }
 },
 "nbformat": 4,
 "nbformat_minor": 5
}
